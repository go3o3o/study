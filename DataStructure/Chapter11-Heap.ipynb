{
 "cells": [
  {
   "cell_type": "code",
   "execution_count": 33,
   "metadata": {},
   "outputs": [],
   "source": [
    "class Heap:\n",
    "    def __init__(self, data):\n",
    "        self.heap_array = list()\n",
    "        self.heap_array.append(None)\n",
    "        self.heap_array.append(data)\n",
    "    \n",
    "    def move_up(self, inserted_idx):\n",
    "        if inserted_idx <= 1:\n",
    "            return False\n",
    "        parent_idx = inserted_idx // 2\n",
    "        if self.heap_array[inserted_idx] > self.heap_array[parent_idx]:\n",
    "            return True\n",
    "        else:\n",
    "            return False\n",
    "        \n",
    "    def insert(self, data):\n",
    "        if len(self.heap_array) == 0:\n",
    "            self.heap_array.append(None)\n",
    "            self.heap_array.append(data)\n",
    "            return True\n",
    "        \n",
    "        self.heap_array.append(data)\n",
    "        \n",
    "        inserted_idx = len(self.heap_array) - 1\n",
    "        \n",
    "        while self.move_up(inserted_idx):\n",
    "            parent_idx = inserted_idx // 2\n",
    "            self.heap_array[inserted_idx], self.heap_array[parent_idx] = self.heap_array[parent_idx], self.heap_array[inserted_idx]\n",
    "            inserted_idx = parent_idx\n",
    "        \n",
    "        return True\n",
    "    \n",
    "    def move_down(self, poped_idx):\n",
    "        left_child_poped_idx = poped_idx * 2\n",
    "        right_child_poped_idx = poped_idx * 2 + 1\n",
    "        \n",
    "        if left_child_poped_idx >= len(self.heap_array):\n",
    "            return False\n",
    "        elif right_child_poped_idx >= len(self.heap_array):\n",
    "            if self.heap_array[poped_idx] < self.heap_array[right_child_poped_idx]:\n",
    "                return True\n",
    "            else:\n",
    "                return False\n",
    "        else:\n",
    "            if self.heap_array[left_child_poped_idx] > self.heap_array[right_child_poped_idx]:\n",
    "                if self.heap_array[poped_idx] < self.heap_array[left_child_poped_idx]:\n",
    "                    return True\n",
    "                else:\n",
    "                    return False\n",
    "            else:\n",
    "                if self.heap_array[poped_idx] < self.heap_array[right_child_poped_idx]:\n",
    "                    return True\n",
    "                else:\n",
    "                    return False\n",
    "                \n",
    "        \n",
    "    def pop(self):\n",
    "        if len(self.heap_array) <= 1:\n",
    "            return None\n",
    "        \n",
    "        returned_data = self.heap_array[1]\n",
    "        self.heap_array[1] = self.heap_array[-1]\n",
    "        del self.heap_array[-1]\n",
    "        \n",
    "        poped_idx = 1 \n",
    "        \n",
    "        while self.move_down(poped_idx):\n",
    "            left_child_poped_idx = poped_idx * 2\n",
    "            right_child_poped_idx = poped_idx * 2 + 1\n",
    "            \n",
    "            if right_child_poped_idx >= len(self.heap_array):\n",
    "                if self.heap_array[poped_idx] < self.heap_array[left_child_poped_idx]:\n",
    "                    self.heap_array[poped_idx], self.heap_array[left_child_poped_idx] = self.heap_array[left_child_poped_idx], self.heap_array[poped_idx]\n",
    "                    poped_idx = left_child_poped_idx\n",
    "            else:\n",
    "                if self.heap_array[left_child_poped_idx] > self.heap_array[right_child_poped_idx]:\n",
    "                    if self.heap_array[poped_idx] < self.heap_array[left_child_poped_idx]:\n",
    "                        self.heap_array[poped_idx], self.heap_array[left_child_poped_idx] = self.heap_array[left_child_poped_idx], self.heap_array[poped_idx]\n",
    "                        poped_idx = left_child_poped_idx\n",
    "                else:\n",
    "                    if self.heap_array[poped_idx] < self.heap_array[right_child_poped_idx]:\n",
    "                        self.heap_array[poped_idx], self.heap_array[right_child_poped_idx] = self.heap_array[right_child_poped_idx], self.heap_array[poped_idx]\n",
    "                        poped_idx = right_child_poped_idx\n",
    "            \n",
    "        return returned_data\n",
    "\n",
    "        \n",
    "        "
   ]
  },
  {
   "cell_type": "code",
   "execution_count": 34,
   "metadata": {},
   "outputs": [
    {
     "name": "stdout",
     "output_type": "stream",
     "text": [
      "[None, 20, 10, 15, 5, 4, 8]\n"
     ]
    }
   ],
   "source": [
    "heap = Heap(15)\n",
    "heap.insert(10)\n",
    "heap.insert(8)\n",
    "heap.insert(5)\n",
    "heap.insert(4)\n",
    "heap.insert(20)\n",
    "\n",
    "print(heap.heap_array)"
   ]
  },
  {
   "cell_type": "code",
   "execution_count": 35,
   "metadata": {},
   "outputs": [
    {
     "data": {
      "text/plain": [
       "20"
      ]
     },
     "execution_count": 35,
     "metadata": {},
     "output_type": "execute_result"
    }
   ],
   "source": [
    "heap.pop()"
   ]
  },
  {
   "cell_type": "code",
   "execution_count": 36,
   "metadata": {},
   "outputs": [
    {
     "name": "stdout",
     "output_type": "stream",
     "text": [
      "[None, 15, 10, 8, 5, 4]\n"
     ]
    }
   ],
   "source": [
    "print(heap.heap_array)"
   ]
  },
  {
   "cell_type": "code",
   "execution_count": null,
   "metadata": {},
   "outputs": [],
   "source": []
  }
 ],
 "metadata": {
  "kernelspec": {
   "display_name": "Python 3",
   "language": "python",
   "name": "python3"
  },
  "language_info": {
   "codemirror_mode": {
    "name": "ipython",
    "version": 3
   },
   "file_extension": ".py",
   "mimetype": "text/x-python",
   "name": "python",
   "nbconvert_exporter": "python",
   "pygments_lexer": "ipython3",
   "version": "3.6.8"
  }
 },
 "nbformat": 4,
 "nbformat_minor": 2
}
