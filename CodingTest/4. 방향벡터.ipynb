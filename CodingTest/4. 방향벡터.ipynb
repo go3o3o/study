{
 "cells": [
  {
   "cell_type": "code",
   "execution_count": null,
   "metadata": {},
   "outputs": [],
   "source": [
    "# N / S / E / W\n",
    "dx = [-1, 1, 0, 0]\n",
    "dy = [0, 0, 1, -1]"
   ]
  },
  {
   "cell_type": "markdown",
   "metadata": {},
   "source": [
    "### 백준16956_늑대와 양"
   ]
  },
  {
   "cell_type": "code",
   "execution_count": 18,
   "metadata": {},
   "outputs": [
    {
     "name": "stdout",
     "output_type": "stream",
     "text": [
      "6 6\n",
      "..S...\n",
      "..S.W.\n",
      ".S....\n",
      "..W...\n",
      "...W..\n",
      "......\n",
      "1\n",
      "DDSDDD\n",
      "DDSDWD\n",
      "DSDDDD\n",
      "DDWDDD\n",
      "DDDWDD\n",
      "DDDDDD\n"
     ]
    }
   ],
   "source": [
    "r, c = map(int, input().split())\n",
    "n = [list(input()) for i in range(r)]\n",
    "\n",
    "dx, dy = [0, 1, 0, -1], [1, 0, -1, 0]\n",
    "ck = False\n",
    "\n",
    "for i in range(r):\n",
    "    for j in range(c):\n",
    "        if n[i][j] == 'W':\n",
    "            for w in range(4):\n",
    "                ii, jj = i + dx[w], j + dy[w]\n",
    "#                 print(i, dx[w], j, dy[w])\n",
    "                if ii < 0 or ii == r or jj < 0 or jj == c:\n",
    "                    continue\n",
    "                if n[ii][jj] == 'S':\n",
    "                    ck = True\n",
    "                    \n",
    "if ck:\n",
    "    print(0)\n",
    "else:\n",
    "    print(1)\n",
    "    for i in range(r):\n",
    "        for j in range(r):\n",
    "            if n[i][j] not in 'SW':\n",
    "                n[i][j] = 'D'\n",
    "for i in n:\n",
    "    print(''.join(i))"
   ]
  },
  {
   "cell_type": "markdown",
   "metadata": {},
   "source": [
    "### 백준14620_꽃길"
   ]
  },
  {
   "cell_type": "code",
   "execution_count": 29,
   "metadata": {},
   "outputs": [
    {
     "name": "stdout",
     "output_type": "stream",
     "text": [
      "6\n",
      "1 0 2 3 3 4\n",
      "1 1 1 1 1 1\n",
      "0 0 1 1 1 1\n",
      "3 9 9 0 1 99\n",
      "9 11 3 1 0 3\n",
      "12 3 0 0 0 1\n",
      "12\n"
     ]
    }
   ],
   "source": [
    "n = int(input()) \n",
    "g = [list(map(int, input().split())) for i in range(n)]\n",
    "\n",
    "dx, dy = [0, 0, 0, 1, -1], [0, 1, -1, 0, 0]\n",
    "\n",
    "result = 10001\n",
    "\n",
    "def ck(lst):\n",
    "    ret = 0\n",
    "    flowers = []\n",
    "    for flower in lst:\n",
    "        x = flower // n\n",
    "        y = flower % n\n",
    "        \n",
    "        if x == 0 or x == n - 1 or y == 0 or y == n - 1:\n",
    "            return 10001\n",
    "        \n",
    "        for w in range(5):\n",
    "            flowers.append((x + dx[w], y + dy[w]))\n",
    "            ret += g[x + dx[w]][y + dy[w]]\n",
    "    \n",
    "    if len(set(flowers)) != 15:\n",
    "        return 10001\n",
    "    return ret\n",
    "            \n",
    "    \n",
    "\n",
    "for i in range(n*n):\n",
    "    for j in range(i + 1, n*n):\n",
    "        for k in range(j + 1, n*n):\n",
    "            result = min(result, ck([i, j, k]))\n",
    "print(result)"
   ]
  },
  {
   "cell_type": "code",
   "execution_count": null,
   "metadata": {},
   "outputs": [],
   "source": []
  }
 ],
 "metadata": {
  "kernelspec": {
   "display_name": "Python 3",
   "language": "python",
   "name": "python3"
  },
  "language_info": {
   "codemirror_mode": {
    "name": "ipython",
    "version": 3
   },
   "file_extension": ".py",
   "mimetype": "text/x-python",
   "name": "python",
   "nbconvert_exporter": "python",
   "pygments_lexer": "ipython3",
   "version": "3.8.5"
  }
 },
 "nbformat": 4,
 "nbformat_minor": 4
}
