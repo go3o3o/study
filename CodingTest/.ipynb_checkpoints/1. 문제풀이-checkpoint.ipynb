{
 "cells": [
  {
   "cell_type": "markdown",
   "metadata": {},
   "source": [
    "### 백준 15969_행복"
   ]
  },
  {
   "cell_type": "code",
   "execution_count": 2,
   "metadata": {
    "scrolled": true
   },
   "outputs": [
    {
     "name": "stdout",
     "output_type": "stream",
     "text": [
      "5\n",
      "27 35 92 75 42\n",
      "65\n"
     ]
    }
   ],
   "source": [
    "n, lst = input(), list(map(int, input().split()))\n",
    "\n",
    "print(max(lst) - min(lst))"
   ]
  },
  {
   "cell_type": "markdown",
   "metadata": {},
   "source": [
    "### 백준 10539_수빈이와 수열"
   ]
  },
  {
   "cell_type": "code",
   "execution_count": 5,
   "metadata": {},
   "outputs": [
    {
     "name": "stdout",
     "output_type": "stream",
     "text": [
      "4\n",
      "3 2 3 5\n",
      "[3, 1, 5, 11] "
     ]
    }
   ],
   "source": [
    "n, b = int(input()), list(map(int, input().split()))\n",
    "\n",
    "a = [0 for i in range(b)]\n",
    "a[0] = b[0]\n",
    "# a = [b[0]]\n",
    "\n",
    "for i in range(1, n):\n",
    "    a.append(b[i] * (i + 1) - sum(a))\n",
    "    \n",
    "print(a, end=' ')"
   ]
  },
  {
   "cell_type": "markdown",
   "metadata": {},
   "source": [
    "### 백준 17269_이름궁합테스트"
   ]
  },
  {
   "cell_type": "code",
   "execution_count": 15,
   "metadata": {},
   "outputs": [
    {
     "name": "stdout",
     "output_type": "stream",
     "text": [
      "8 14\n",
      "LEESIYUN MIYAWAKISAKURA\n",
      "[1, 3, 4, 1, 4, 2, 1, 3, 1, 1, 2, 3, 1, 3, 2, 1, 1, 3, 3, 1, 2, 3]\n",
      "27%\n"
     ]
    }
   ],
   "source": [
    "n, m = map(int, input().split())\n",
    "a, b = input().split()\n",
    "\n",
    "alp = [3, 2, 1, 2, 4, 3, 1, 3, 1, 1, 3, 1, 3, 2,1, 2, 2, 2, 1, 2, 1, 1, 1, 2, 2, 1]\n",
    "\n",
    "ab = ''\n",
    "min_len = min(n, m)\n",
    "for i in range(min_len):\n",
    "    ab += a[i] + b[i]\n",
    "\n",
    "ab += a[min_len:] + b[min_len:]\n",
    "\n",
    "lst = [alp[ord(i) - ord('A')] for i in ab]\n",
    "print(lst)\n",
    "\n",
    "for i in range(n + m - 2):\n",
    "    for j in range(n + m - 1 - i):\n",
    "        lst[j] += lst[j + 1]\n",
    "        \n",
    "print(\"{}%\".format(lst[0] % 10 * 10 + lst[1] % 10))"
   ]
  },
  {
   "cell_type": "markdown",
   "metadata": {},
   "source": [
    "### 백준 17389_보너스 점수"
   ]
  },
  {
   "cell_type": "code",
   "execution_count": 19,
   "metadata": {},
   "outputs": [
    {
     "name": "stdout",
     "output_type": "stream",
     "text": [
      "8\n",
      "XOOOXOOX\n",
      "26\n"
     ]
    }
   ],
   "source": [
    "n = int(input())\n",
    "s = input()\n",
    "\n",
    "score, bonus = 0, 0\n",
    "\n",
    "for idx, ox in enumerate(s):\n",
    "    if ox == 'O':\n",
    "        score, bonus = score + idx + 1 + bonus, bonus + 1\n",
    "    else:\n",
    "        bonus = 0\n",
    "        \n",
    "print(score)"
   ]
  }
 ],
 "metadata": {
  "kernelspec": {
   "display_name": "Python 3",
   "language": "python",
   "name": "python3"
  },
  "language_info": {
   "codemirror_mode": {
    "name": "ipython",
    "version": 3
   },
   "file_extension": ".py",
   "mimetype": "text/x-python",
   "name": "python",
   "nbconvert_exporter": "python",
   "pygments_lexer": "ipython3",
   "version": "3.6.8"
  }
 },
 "nbformat": 4,
 "nbformat_minor": 2
}
