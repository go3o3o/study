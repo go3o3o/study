{
 "cells": [
  {
   "cell_type": "markdown",
   "metadata": {},
   "source": [
    "### 백준 _수찾기"
   ]
  },
  {
   "cell_type": "code",
   "execution_count": 5,
   "metadata": {},
   "outputs": [
    {
     "name": "stdout",
     "output_type": "stream",
     "text": [
      "5\n",
      "4 5 1 2 3\n",
      "5\n",
      "1 3 7 9 5\n",
      "1\n",
      "1\n",
      "0\n",
      "0\n",
      "1\n"
     ]
    }
   ],
   "source": [
    "n, a = int(input()), {i: 1 for i in map(int, input().split())}\n",
    "\n",
    "n = input()\n",
    "for i in list(map(int, input().split())):\n",
    "    print(a.get(i, 0))\n",
    "    \n"
   ]
  },
  {
   "cell_type": "markdown",
   "metadata": {},
   "source": [
    "### 백준16165_걸그룹 마스터 준석이"
   ]
  },
  {
   "cell_type": "code",
   "execution_count": null,
   "metadata": {},
   "outputs": [],
   "source": [
    "n, m = map(int, input().split())\n",
    "\n",
    "\n",
    "team_mem, mem_team = {}, {}\n",
    "\n",
    "for i in range(n):\n",
    "    team_name, team_num = input(), int(input())\n",
    "    team_mem[team_name] = []\n",
    "    for j in range(team_num):\n",
    "        name = input()\n",
    "        team_mem[team_name].append(name)\n",
    "        mem_team[name] = team_name\n",
    "        \n",
    "for i in range(m):\n",
    "    name, q = input(), int(input())\n",
    "    if q:\n",
    "        print(mem_team[name])\n",
    "    else:\n",
    "        for mem in sorted(team_mem[name]):\n",
    "            print(mem)\n",
    "        "
   ]
  },
  {
   "cell_type": "code",
   "execution_count": null,
   "metadata": {},
   "outputs": [],
   "source": [
    "### 백준17224_ APC는 왜 서브태스크 대회가 되었을까"
   ]
  },
  {
   "cell_type": "code",
   "execution_count": 8,
   "metadata": {},
   "outputs": [
    {
     "name": "stdout",
     "output_type": "stream",
     "text": [
      "8 7 5\n",
      "1 3\n",
      "2 5\n",
      "3 5\n",
      "4 8\n",
      "5 8\n",
      "6 9\n",
      "6 7\n",
      "7 10\n",
      "660\n"
     ]
    }
   ],
   "source": [
    "n, l, k = map(int, input().split())\n",
    "\n",
    "easy, hard = 0, 0\n",
    "\n",
    "for i in range(n):\n",
    "    sub1, sub2 = map(int, input().split())\n",
    "    if sub2 <= l:\n",
    "        hard += 1\n",
    "    elif sub1 <= l:\n",
    "        easy += 1\n",
    "        \n",
    "# hard 문제\n",
    "ans = min(hard, k) * 140\n",
    "\n",
    "# easy 문제\n",
    "if hard < k:\n",
    "    ans += min(k - hard, easy) * 100\n",
    "\n",
    "print(ans)\n",
    "        "
   ]
  },
  {
   "cell_type": "markdown",
   "metadata": {},
   "source": [
    "### 백준9037_The candy war"
   ]
  },
  {
   "cell_type": "code",
   "execution_count": 15,
   "metadata": {},
   "outputs": [
    {
     "name": "stdout",
     "output_type": "stream",
     "text": [
      "4\n",
      "5\n",
      "2 4 7 8 9\n",
      "6\n",
      "1\n",
      "9\n",
      "0\n",
      "6\n",
      "10 5 13 2 7 8\n",
      "4\n",
      "4\n",
      "3 4 4 3\n",
      "0\n"
     ]
    }
   ],
   "source": [
    "def check(n, candy):\n",
    "    for i in range(n):\n",
    "        if candy[i] % 2 == 1:\n",
    "            candy[i] += 1\n",
    "    return len(set(candy)) == 1\n",
    "\n",
    "def teacher(n, candy):\n",
    "    tmp_list = [0 for i in range(n)] # 오른쪽으로 전달해 줘야 하는 사탕 수\n",
    "    for idx in range(n):\n",
    "        if candy[idx] % 2:\n",
    "            candy[idx] += 1\n",
    "        candy[idx] //= 2\n",
    "        tmp_list[(idx + 1) % n] = candy[idx]\n",
    "    for idx in range(n):\n",
    "        candy[idx] += tmp_list[idx]\n",
    "    return candy\n",
    "        \n",
    "\n",
    "def process():\n",
    "    n, candy = int(input()), list(map(int, input().split()))\n",
    "    cnt = 0\n",
    "    while not check(n, candy):\n",
    "        cnt += 1\n",
    "        candy = teacher(n, candy)\n",
    "    print(cnt)\n",
    "\n",
    "test_case = int(input())\n",
    "for i in range(test_case):\n",
    "    process()\n",
    "    "
   ]
  },
  {
   "cell_type": "markdown",
   "metadata": {},
   "source": [
    "### 백준16769_Mixing Milk"
   ]
  },
  {
   "cell_type": "code",
   "execution_count": 17,
   "metadata": {},
   "outputs": [
    {
     "name": "stdout",
     "output_type": "stream",
     "text": [
      "10 3\n",
      "11 4\n",
      "12 5\n",
      "0\n",
      "10\n",
      "2\n"
     ]
    }
   ],
   "source": [
    "cap, milk = list(), list()\n",
    "\n",
    "for i in range(3):\n",
    "    a, b = map(int, input().split())\n",
    "    cap.append(a)\n",
    "    milk.append(b)\n",
    "    \n",
    "\n",
    "for i in range(100):\n",
    "    idx = i % 3\n",
    "    nxt = (i + 1) % 3\n",
    "\n",
    "    milk[idx], milk[nxt] = max(milk[idx] - cap[nxt] - milk[nxt], 0), min(cap[nxt], milk[nxt] + milk[idx])\n",
    "    \n",
    "for i in milk:\n",
    "    print(i)"
   ]
  },
  {
   "cell_type": "markdown",
   "metadata": {},
   "source": [
    "### 백준1074_z"
   ]
  },
  {
   "cell_type": "code",
   "execution_count": null,
   "metadata": {},
   "outputs": [],
   "source": []
  }
 ],
 "metadata": {
  "kernelspec": {
   "display_name": "Python 3",
   "language": "python",
   "name": "python3"
  },
  "language_info": {
   "codemirror_mode": {
    "name": "ipython",
    "version": 3
   },
   "file_extension": ".py",
   "mimetype": "text/x-python",
   "name": "python",
   "nbconvert_exporter": "python",
   "pygments_lexer": "ipython3",
   "version": "3.8.5"
  }
 },
 "nbformat": 4,
 "nbformat_minor": 2
}
