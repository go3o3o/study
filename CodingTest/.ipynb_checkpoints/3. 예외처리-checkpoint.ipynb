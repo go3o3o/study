{
 "cells": [
  {
   "cell_type": "markdown",
   "metadata": {},
   "source": [
    "1. 논리 연산자/비트 연산자 활용하기\n",
    "2. 상태를 나타내는 자료 활용하기\n",
    "3. 나눠서 진행하기\n",
    "4. 여러 자료구조와 메서드, 함수 활용하기\n",
    "5. 미리 처리한 케이스와 처리할 케이스 정리하기\n",
    "6. 예제, 최소, 최대, 예외, 랜덤 케이스 만들기"
   ]
  },
  {
   "cell_type": "markdown",
   "metadata": {},
   "source": [
    "### 백준2480_주사위 세개"
   ]
  },
  {
   "cell_type": "code",
   "execution_count": 10,
   "metadata": {
    "scrolled": true
   },
   "outputs": [
    {
     "name": "stdout",
     "output_type": "stream",
     "text": [
      "3 3 6\n",
      "[3, 3, 6]\n",
      "1300\n"
     ]
    }
   ],
   "source": [
    "n = list(map(int, input().split()))\n",
    "\n",
    "n.sort()\n",
    "print(n)\n",
    "\n",
    "if len(set(n)) == 1:\n",
    "    print(10000 + n[0] * 1000)\n",
    "elif len(set(n)) == 2:\n",
    "    print(1000 + n[1] * 100)\n",
    "else:\n",
    "    print(n[2] * 100)"
   ]
  },
  {
   "cell_type": "markdown",
   "metadata": {},
   "source": [
    "### 백준2484_주사위 네개"
   ]
  },
  {
   "cell_type": "code",
   "execution_count": 2,
   "metadata": {},
   "outputs": [
    {
     "name": "stdout",
     "output_type": "stream",
     "text": [
      "4\n",
      "3 3 3 3\n",
      "3 3 6 3\n",
      "2 2 6 6\n",
      "6 2 1 5\n",
      "65000\n"
     ]
    }
   ],
   "source": [
    "def money():\n",
    "    dice = sorted(list(map(int, input().split())))\n",
    "    if len(set(dice)) == 1:\n",
    "        return dice[0] * 5000 + 50000\n",
    "    if len(set(dice)) == 2:\n",
    "        if dice[1] == dice[2]:\n",
    "            return 10000 + dice[1] * 1000\n",
    "        else:\n",
    "            return 2000 + (dice[1] + dice[2]) * 500\n",
    "    for i in range(3):\n",
    "        if dice[i] == dice[i + 1]:\n",
    "            return 1000 + dice[i]\n",
    "    return dice[-1] * 100\n",
    "\n",
    "n = int(input())\n",
    "\n",
    "print(max(money() for i in range(n)))\n"
   ]
  },
  {
   "cell_type": "markdown",
   "metadata": {},
   "source": [
    "### 백준16675_두개의 손\n",
    "- 모듈러 연산"
   ]
  },
  {
   "cell_type": "code",
   "execution_count": 7,
   "metadata": {},
   "outputs": [
    {
     "name": "stdout",
     "output_type": "stream",
     "text": [
      "P R P S\n",
      "1 2 1 0\n",
      "?\n"
     ]
    }
   ],
   "source": [
    "ML, MR, TL, TR = ('SPR'.index(i) for i in input().split()) \n",
    "print(ML, MR, TL, TR)\n",
    "## 0 2 \n",
    "## 1 0\n",
    "## 2 1\n",
    "if ML == MR and (ML + 2) % 3 in [TL, TR]:\n",
    "    print('TK')\n",
    "elif TL == TR and (TL + 2) % 3 in [ML, MR]:\n",
    "    print('MS')\n",
    "else:\n",
    "    print('?')\n"
   ]
  },
  {
   "cell_type": "markdown",
   "metadata": {},
   "source": [
    "### 백준17413_단어 뒤집기 2"
   ]
  },
  {
   "cell_type": "code",
   "execution_count": 19,
   "metadata": {},
   "outputs": [
    {
     "name": "stdout",
     "output_type": "stream",
     "text": [
      "<problem>17413<is hardest>problem ever<end>\n",
      "<problem>31471<is hardest>melborp reve<end>\n"
     ]
    }
   ],
   "source": [
    "s, tmp = input(), \"\"\n",
    "\n",
    "ck = False\n",
    "result = \"\"\n",
    "for i in s:\n",
    "    if i == ' ':\n",
    "        if not ck:\n",
    "            result += tmp[::-1] + \" \"\n",
    "            tmp = \"\"\n",
    "        else:\n",
    "            result += \" \"\n",
    "    elif i in '<':\n",
    "        ck = True\n",
    "        result += tmp[::-1] + \"<\"\n",
    "        tmp = \"\"\n",
    "    elif i in '>':\n",
    "        ck = False\n",
    "        result += \">\"\n",
    "    else: # 알파벳과 숫자\n",
    "        if not ck:\n",
    "            tmp += i\n",
    "        else:\n",
    "            result += i\n",
    "            \n",
    "result += tmp[::-1]\n",
    "print(result)\n",
    "        "
   ]
  },
  {
   "cell_type": "code",
   "execution_count": null,
   "metadata": {},
   "outputs": [],
   "source": []
  },
  {
   "cell_type": "code",
   "execution_count": null,
   "metadata": {},
   "outputs": [],
   "source": []
  }
 ],
 "metadata": {
  "kernelspec": {
   "display_name": "Python 3",
   "language": "python",
   "name": "python3"
  },
  "language_info": {
   "codemirror_mode": {
    "name": "ipython",
    "version": 3
   },
   "file_extension": ".py",
   "mimetype": "text/x-python",
   "name": "python",
   "nbconvert_exporter": "python",
   "pygments_lexer": "ipython3",
   "version": "3.6.8"
  }
 },
 "nbformat": 4,
 "nbformat_minor": 2
}
