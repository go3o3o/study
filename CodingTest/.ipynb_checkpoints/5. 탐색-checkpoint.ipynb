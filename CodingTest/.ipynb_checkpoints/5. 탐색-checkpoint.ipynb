{
 "cells": [
  {
   "cell_type": "markdown",
   "metadata": {},
   "source": [
    "- BFS: Queue\n",
    "- DFS: 재귀함수 or Stack"
   ]
  },
  {
   "cell_type": "markdown",
   "metadata": {},
   "source": [
    "1. 구현에 초점\n",
    " - BFS/DFS, 백트래킹에 수 많은 조건\n",
    " - 1) 부분 상태 탐색 (위치 이동, 수)\n",
    "    - 상태에 대한 체크 함수\n",
    " - 2) 전체 상태 탐색 (전체 map)\n",
    "    - N차원 배열을 조정하는 방법\n",
    " - 3) Flood Fill\n",
    " - 4) 트리 순회\n",
    "2. 알고리즘 지식\n",
    " - 1) 위상정렬(Topological Sort)\n",
    " - 2) 최소신장트리 (MST)\n",
    " - 3) 최단 거리"
   ]
  },
  {
   "cell_type": "markdown",
   "metadata": {},
   "source": [
    "### 백준1012_유기농배추"
   ]
  },
  {
   "cell_type": "code",
   "execution_count": 11,
   "metadata": {},
   "outputs": [
    {
     "name": "stdout",
     "output_type": "stream",
     "text": [
      "2\n",
      "10 8 17\n",
      "0 0\n",
      "1 0\n",
      "1 1\n",
      "4 2 \n",
      "4 3 \n",
      "4 5 \n",
      "2 4\n",
      "3 4\n",
      "7 4\n",
      "8 4\n",
      "9 4\n",
      "7 5\n",
      "8 5\n",
      "9 5\n",
      "7 6\n",
      "8 7\n",
      "9 6\n",
      "6\n",
      "10 10 1\n",
      "5 5\n",
      "1\n"
     ]
    }
   ],
   "source": [
    "import sys\n",
    "sys.setrecursionlimit(10000)\n",
    "\n",
    "t = int(input())\n",
    "b, ck = [], []\n",
    "\n",
    "dx, dy = [1, 0, -1, 0], [0, 1, 0, -1]\n",
    "\n",
    "def dfs(x, y):\n",
    "    global b, ck\n",
    "    if ck[x][y] == 1:\n",
    "        return\n",
    "    ck[x][y] = 1\n",
    "    \n",
    "    for i in range(4):\n",
    "        xx, yy = x + dx[i], y + dy[i]\n",
    "        if b[xx][yy] == 0 or ck[xx][yy]:\n",
    "            continue\n",
    "        dfs(xx, yy)\n",
    "    \n",
    "    \n",
    "def process():\n",
    "    global b, ck\n",
    "    m, n, k = map(int, input().split())\n",
    "    b = [[0 for i in range(m+2)] for _ in range(n+2)]\n",
    "    ck = [[0 for i in range(m+2)] for _ in range(n+2)]\n",
    "    \n",
    "    for _ in range(k):\n",
    "        x, y = map(int, input().split())\n",
    "        b[y + 1][x + 1] = 1\n",
    "    ans = 0\n",
    "    for i in range(1, n + 1):\n",
    "        for j in range(1, m + 1):\n",
    "            if b[i][j] == 0 or ck[i][j]:\n",
    "                continue\n",
    "            dfs(i, j)\n",
    "            ans += 1\n",
    "    print(ans)    \n",
    "            \n",
    "for _ in range(t):\n",
    "    process()"
   ]
  },
  {
   "cell_type": "code",
   "execution_count": 2,
   "metadata": {},
   "outputs": [],
   "source": [
    "### 백준16768_Mooyo Mooyo"
   ]
  },
  {
   "cell_type": "code",
   "execution_count": 23,
   "metadata": {},
   "outputs": [
    {
     "name": "stdout",
     "output_type": "stream",
     "text": [
      "6 3\n",
      "0000000000\n",
      "0000000300\n",
      "0054000300\n",
      "1054502230\n",
      "2211122220\n",
      "1111111223\n",
      "0000000000\n",
      "0000000000\n",
      "0000000000\n",
      "0000000000\n",
      "1054000000\n",
      "2254500000\n"
     ]
    }
   ],
   "source": [
    "import sys\n",
    "sys.setrecursionlimit(10000)\n",
    "\n",
    "def new_array(n):\n",
    "    return [[False for i in range(10)] for _ in range(n)]\n",
    "\n",
    "n, k = map(int, input().split())\n",
    "m = [list(input()) for _ in range(n)]\n",
    "ck = new_array(n)\n",
    "ck2 = new_array(n)\n",
    "\n",
    "dx, dy = [0, 1, 0, -1], [1, 0, -1, 0]\n",
    "\n",
    "def dfs(x, y):\n",
    "    ck[x][y] = True\n",
    "    ret = 1\n",
    "    for i in range(4):\n",
    "        xx, yy = x + dx[i], y + dy[i]\n",
    "        if xx < 0 or xx >= n or yy < 0 or yy >= 10:\n",
    "            continue\n",
    "        if ck[xx][yy] or m[x][y] != m[xx][yy]:\n",
    "            continue\n",
    "        ret += dfs(xx, yy)\n",
    "    return ret\n",
    "\n",
    "def dfs2(x, y, val):\n",
    "    ck2[x][y] = True\n",
    "    m[x][y] = '0'\n",
    "    for i in range(4):\n",
    "        xx, yy = x + dx[i], y + dy[i]\n",
    "        if xx < 0 or xx >= n or yy < 0 or yy >= 10:\n",
    "            continue\n",
    "        if ck2[xx][yy] or m[xx][yy] != val:\n",
    "            continue\n",
    "        dfs2(xx, yy, val)\n",
    "            \n",
    "def down():\n",
    "    for i in range(10):\n",
    "        tmp = []\n",
    "        for j in range(n):\n",
    "            if m[j][i] != '0':\n",
    "                tmp.append(m[j][i])\n",
    "        for j in range(n - len(tmp)):\n",
    "            m[j][i] = '0'\n",
    "        for j in range(n - len(tmp), n):\n",
    "            m[j][i] = tmp[j - (n - len(tmp))]\n",
    "            \n",
    "\n",
    "while True:\n",
    "    exist = False\n",
    "    ck = new_array(n)\n",
    "    ck2 = new_array(n)\n",
    "    for i in range(n):\n",
    "        for j in range(10):\n",
    "            if m[i][j] == '0' or ck[i][j]:\n",
    "                continue\n",
    "            res = dfs(i, j) # 개수 세기\n",
    "            if res >= k:\n",
    "                dfs2(i, j, m[i][j]) # 지우기\n",
    "                exist = True\n",
    "    if not exist:\n",
    "        break\n",
    "    down() # 내리기\n",
    "        \n",
    "for i in m:\n",
    "    print(''.join(i))\n",
    "    \n"
   ]
  },
  {
   "cell_type": "code",
   "execution_count": null,
   "metadata": {},
   "outputs": [],
   "source": [
    "### 백준12100_2048"
   ]
  },
  {
   "cell_type": "code",
   "execution_count": null,
   "metadata": {},
   "outputs": [],
   "source": []
  },
  {
   "cell_type": "code",
   "execution_count": null,
   "metadata": {},
   "outputs": [],
   "source": [
    "### 백준17406_배열 돌리기 4"
   ]
  },
  {
   "cell_type": "code",
   "execution_count": null,
   "metadata": {},
   "outputs": [],
   "source": []
  }
 ],
 "metadata": {
  "kernelspec": {
   "display_name": "Python 3",
   "language": "python",
   "name": "python3"
  },
  "language_info": {
   "codemirror_mode": {
    "name": "ipython",
    "version": 3
   },
   "file_extension": ".py",
   "mimetype": "text/x-python",
   "name": "python",
   "nbconvert_exporter": "python",
   "pygments_lexer": "ipython3",
   "version": "3.6.8"
  }
 },
 "nbformat": 4,
 "nbformat_minor": 2
}
