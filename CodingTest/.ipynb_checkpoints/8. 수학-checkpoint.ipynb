{
 "cells": [
  {
   "cell_type": "code",
   "execution_count": null,
   "metadata": {},
   "outputs": [],
   "source": [
    "## GCD와 LCM\n",
    "- 유클리드 호제법: GCD(a, b) = GCD(b, a%b)"
   ]
  },
  {
   "cell_type": "code",
   "execution_count": 5,
   "metadata": {},
   "outputs": [
    {
     "name": "stdout",
     "output_type": "stream",
     "text": [
      "20\n",
      "CPU times: user 106 µs, sys: 56 µs, total: 162 µs\n",
      "Wall time: 135 µs\n",
      "20\n",
      "CPU times: user 28 µs, sys: 4 µs, total: 32 µs\n",
      "Wall time: 34.1 µs\n",
      "20\n",
      "CPU times: user 49 µs, sys: 31 µs, total: 80 µs\n",
      "Wall time: 68.9 µs\n",
      "20\n",
      "CPU times: user 40 µs, sys: 9 µs, total: 49 µs\n",
      "Wall time: 67 µs\n"
     ]
    }
   ],
   "source": [
    "# 1. 단순하게 반복문 사용 \n",
    "def gcd_naive(a, b):\n",
    "    for i in range(min(a, b), 0, -1):\n",
    "        if a%i == 0 and b%i == 0: return i\n",
    "        \n",
    "# 2-1. 유클리드 호제법 이용\n",
    "def gcd(a, b):\n",
    "    if a%b == 0: return b\n",
    "    return gcd(b, a%b)\n",
    "\n",
    "# 2-2. 반복문으로 변경\n",
    "def gcd2(a, b):\n",
    "    while a%b != 0: a, b = b, a%b\n",
    "    return b\n",
    "\n",
    "# 3. math의 gcd 사용\n",
    "import math\n",
    "def gcd_math(a, b):\n",
    "    return math.gcd(a, b)\n",
    "\n",
    "%time print(gcd_naive(100000000, 2*30))\n",
    "%time print(gcd(100000000, 2*30))\n",
    "%time print(gcd2(100000000, 2*30))\n",
    "%time print(gcd_math(100000000, 2*30))"
   ]
  },
  {
   "cell_type": "code",
   "execution_count": null,
   "metadata": {},
   "outputs": [],
   "source": [
    "# LCM 은 GCD 를 활용하여 계산\n",
    "# Python 이 아닌 다른 언어의 경우 int overflow 가 발생할 수 있으니\n",
    "# a / gcd(a, b) * b 순서 추천\n",
    "def lcm(a, b):\n",
    "    return a * b / gcd(a, b)"
   ]
  },
  {
   "cell_type": "code",
   "execution_count": null,
   "metadata": {},
   "outputs": [],
   "source": [
    "## 소수 체크와 소인수 분해"
   ]
  },
  {
   "cell_type": "code",
   "execution_count": 8,
   "metadata": {},
   "outputs": [
    {
     "data": {
      "text/plain": [
       "[3, 5, 823]"
      ]
     },
     "execution_count": 8,
     "metadata": {},
     "output_type": "execute_result"
    }
   ],
   "source": [
    "# 소수 체크 기본\n",
    "def prime_check(n):\n",
    "    for i in range(2, n):\n",
    "        if n % i == 0: return False\n",
    "        if i * i > n: break\n",
    "    return True\n",
    "\n",
    "# 소인수 분해 기본\n",
    "def prime_factorization(n):\n",
    "    p, fac = 2, []\n",
    "    while p**2 <= n:\n",
    "        if n % p == 0:\n",
    "            n //= p\n",
    "            fac.append(p)\n",
    "        else:\n",
    "            p += 1\n",
    "    if n > 1: fac.append(n)\n",
    "    return fac\n",
    "\n",
    "prime_factorization(12345)"
   ]
  },
  {
   "cell_type": "markdown",
   "metadata": {},
   "source": [
    "이런 알고리즘은 단 한번 사용하거나 빠르게 체크할 땐 좋지만,\n",
    "여러 쿼리를 묻는 등의 경우에는 시간복잡도가 큼"
   ]
  },
  {
   "cell_type": "markdown",
   "metadata": {},
   "source": [
    "### 에라토스테네스의 체"
   ]
  },
  {
   "cell_type": "code",
   "execution_count": 9,
   "metadata": {},
   "outputs": [
    {
     "data": {
      "text/plain": [
       "[2,\n",
       " 3,\n",
       " 5,\n",
       " 7,\n",
       " 11,\n",
       " 13,\n",
       " 17,\n",
       " 19,\n",
       " 23,\n",
       " 29,\n",
       " 31,\n",
       " 37,\n",
       " 41,\n",
       " 43,\n",
       " 47,\n",
       " 53,\n",
       " 59,\n",
       " 61,\n",
       " 67,\n",
       " 71,\n",
       " 73,\n",
       " 79,\n",
       " 83,\n",
       " 89,\n",
       " 97]"
      ]
     },
     "execution_count": 9,
     "metadata": {},
     "output_type": "execute_result"
    }
   ],
   "source": [
    "# 에라토스테네스의 체를 활용한 소수 리스트 구하기\n",
    "def era_prime(n):\n",
    "    a, p = [0 for _ in range(n + 1)], []\n",
    "    for i in range(2, n):\n",
    "        if a[i] == 0: p.append(i)\n",
    "        for j in range(i**2, n, i):\n",
    "            a[j] = 1\n",
    "    return p\n",
    "era_prime(100)"
   ]
  },
  {
   "cell_type": "code",
   "execution_count": 12,
   "metadata": {},
   "outputs": [],
   "source": [
    "def era_factorization(n, p):\n",
    "    fac = []\n",
    "    for i in p:\n",
    "        if n == 1 or n > i*i: break\n",
    "        while n % i == 0:\n",
    "            fac.append(i)\n",
    "            n //= 0\n",
    "    return fac"
   ]
  },
  {
   "cell_type": "code",
   "execution_count": 15,
   "metadata": {},
   "outputs": [
    {
     "name": "stdout",
     "output_type": "stream",
     "text": [
      "7\n",
      "3\n",
      "2\n",
      "2\n"
     ]
    }
   ],
   "source": [
    "# 활용 1: 소인수의 개수\n",
    "def era_factor_count(n):\n",
    "    a = [0 for _ in range(n + 1)]\n",
    "    for i in range(1, n):\n",
    "        for j in range(i, n, i):\n",
    "            a[j] += 1\n",
    "    return a\n",
    "\n",
    "# 활용 2: 소인수의 합\n",
    "def era_factor_sum(n):\n",
    "    a = [0 for _ in range(n + 1)]\n",
    "    for i in range(2, n):\n",
    "        for j in range(i, n, i):\n",
    "            a[j] += i\n",
    "    return a\n",
    "\n",
    "# 활용 3: 소인수분해\n",
    "def era_factorization(n):\n",
    "    a = [0 for _ in range(n + 1)]\n",
    "    for i in range(2, n):\n",
    "        if a[i]: continue\n",
    "        for j in range(i, n, i):\n",
    "            a[j] = i\n",
    "    return a\n",
    "\n",
    "# 소인소분해 하는 방법\n",
    "a = era_factorization(100)\n",
    "# print(a)\n",
    "n = 84\n",
    "while a[n] != 0:\n",
    "    print(a[n])\n",
    "    n //= a[n]"
   ]
  },
  {
   "cell_type": "code",
   "execution_count": null,
   "metadata": {},
   "outputs": [],
   "source": [
    "## 빠른 거듭제곱과 모듈러"
   ]
  },
  {
   "cell_type": "code",
   "execution_count": null,
   "metadata": {},
   "outputs": [],
   "source": [
    "def pow_advanced(a, b, mod):\n",
    "    ret = 1\n",
    "    while b > 0:\n",
    "        if b % 2: ret = ret * a % mod\n",
    "        a, b = a * a % mod, b // 2\n",
    "    return ret\n",
    "\n",
    "%time pos_advanced(3, 1000000, 100000007)"
   ]
  }
 ],
 "metadata": {
  "kernelspec": {
   "display_name": "Python 3",
   "language": "python",
   "name": "python3"
  },
  "language_info": {
   "codemirror_mode": {
    "name": "ipython",
    "version": 3
   },
   "file_extension": ".py",
   "mimetype": "text/x-python",
   "name": "python",
   "nbconvert_exporter": "python",
   "pygments_lexer": "ipython3",
   "version": "3.8.5"
  }
 },
 "nbformat": 4,
 "nbformat_minor": 4
}
