{
 "cells": [
  {
   "cell_type": "markdown",
   "metadata": {},
   "source": [
    "### 백준1439_뒤집기\n",
    "- 0 1 : 0, 0\n",
    "- 01 10 : 1, 1\n",
    "- 101, 010 : 1, 2\n",
    "- 1010 : 2, 3\n",
    "- 10101 : 2, 4\n",
    "- 101010 : 3, 5"
   ]
  },
  {
   "cell_type": "code",
   "execution_count": 2,
   "metadata": {},
   "outputs": [
    {
     "name": "stdout",
     "output_type": "stream",
     "text": [
      "0001100\n",
      "1\n"
     ]
    }
   ],
   "source": [
    "s = input()\n",
    "total = 0\n",
    "for i in range(1, len(s)):\n",
    "    if s[i] != s[i - 1]:\n",
    "        total += 1\n",
    "        \n",
    "print((total + 1) // 2)"
   ]
  },
  {
   "cell_type": "markdown",
   "metadata": {},
   "source": [
    "### 백준16676_근우의 다이어리 꾸미기\n",
    "- 0 1 2 3 4 5 6 7 8 9 (< 11)\n",
    "- 0 1 2 3 4 5 6 7 8 9 (< 111)\n",
    "- 0 1 2 3 4 5 6 7 8 9 (< 1111)"
   ]
  },
  {
   "cell_type": "code",
   "execution_count": 6,
   "metadata": {},
   "outputs": [
    {
     "name": "stdout",
     "output_type": "stream",
     "text": [
      "88\n",
      "2\n"
     ]
    }
   ],
   "source": [
    "n = input()\n",
    "s = '1' * len(n)\n",
    "\n",
    "if len(n) == 1:\n",
    "    print(1)\n",
    "\n",
    "elif int(n) >= int(s):\n",
    "    print(len(n))\n",
    "    \n",
    "else:\n",
    "    print(len(n) - 1)"
   ]
  },
  {
   "cell_type": "markdown",
   "metadata": {},
   "source": [
    "### 백준2437_저울\n",
    "- 1 1 2 3 6 7 30\n",
    "- 1 : 1\n",
    "- 2: 2\n",
    "- 3 : 3\n",
    "- 4 : 1 + 3\n",
    "- 5 : 2 + 3\n",
    "- 6 : 6\n",
    "- 7 : 7\n",
    "- 8 : 1 + 7\n",
    "- 13 : 6 + 7\n"
   ]
  },
  {
   "cell_type": "code",
   "execution_count": 12,
   "metadata": {},
   "outputs": [
    {
     "name": "stdout",
     "output_type": "stream",
     "text": [
      "7\n",
      "3 1 6 2 7 30 1\n",
      "21\n"
     ]
    }
   ],
   "source": [
    "n = int(input())\n",
    "a = list(map(int, input().split()))\n",
    "a.sort()\n",
    "\n",
    "ans = 0\n",
    "for i in a:\n",
    "    if i <= ans + 1:\n",
    "        ans += i\n",
    "    else:\n",
    "        break\n",
    "        \n",
    "print(ans + 1)"
   ]
  },
  {
   "cell_type": "markdown",
   "metadata": {},
   "source": [
    "### 백준1080_행렬"
   ]
  },
  {
   "cell_type": "code",
   "execution_count": 14,
   "metadata": {},
   "outputs": [
    {
     "name": "stdout",
     "output_type": "stream",
     "text": [
      "3 4\n",
      "0000\n",
      "0010\n",
      "0000\n",
      "1001\n",
      "1011\n",
      "1001\n",
      "2\n",
      "2\n"
     ]
    }
   ],
   "source": [
    "n, m = map(int, input().split())\n",
    "a = [list(map(int, list(input()))) for _ in range(n)]\n",
    "b = [list(map(int, list(input()))) for _ in range(n)]\n",
    "\n",
    "def flip(x, y, a):\n",
    "    for i in range(3):\n",
    "        for j in range(3):\n",
    "            a[x + i][y + j] ^= 1\n",
    "\n",
    "ans = 0\n",
    "for i in range(0, n - 2):\n",
    "    for j in range(0, m - 2):\n",
    "        if a[i][j] != b[i][j]:\n",
    "            flip(i, j, a)\n",
    "            ans += 1\n",
    "\n",
    "if a != b:\n",
    "    print(-1)\n",
    "else:\n",
    "    print(ans)\n",
    "    \n",
    "print(ans if a == b else -1)"
   ]
  },
  {
   "cell_type": "markdown",
   "metadata": {},
   "source": [
    "### 백준2014_소수의 곱\n",
    "- 2 < 2 * 2\n",
    "- 2 < 2 * 3\n",
    "- 2 < 2 * 5\n",
    "- 2 < 2 * 7\n",
    "- => 3, 5, 7, 2 * 2, 2 * 3, 2 * 5, 2 * 7\n",
    "- => 5, 7, 2 * 2, 2 * 3, 2 * 5, 2 * 7, 3 * 2, 3 * 3, 3 * 5, 3 * 7"
   ]
  },
  {
   "cell_type": "code",
   "execution_count": 15,
   "metadata": {},
   "outputs": [
    {
     "name": "stdout",
     "output_type": "stream",
     "text": [
      "4 19\n",
      "2 3 5 7\n",
      "27\n"
     ]
    }
   ],
   "source": [
    "import heapq\n",
    "import copy\n",
    "\n",
    "k, n = map(int, input().split())\n",
    "p_list = list(map(int, input().split()))\n",
    "lst, ck = copy.deepcopy(p_list), set()\n",
    "\n",
    "heapq.heapify(lst)\n",
    "ith = 0\n",
    "\n",
    "while ith < n:\n",
    "    mn = heapq.heappop(lst)\n",
    "    if mn in ck:\n",
    "        continue\n",
    "    ith += 1\n",
    "    ck.add(mn)\n",
    "    for i in p_list:\n",
    "        if mn * i < 2 ** 32:\n",
    "            heapq.heappush(lst, mn*i)\n",
    "        \n",
    "print(mn)\n"
   ]
  },
  {
   "cell_type": "code",
   "execution_count": null,
   "metadata": {},
   "outputs": [],
   "source": []
  }
 ],
 "metadata": {
  "kernelspec": {
   "display_name": "Python 3",
   "language": "python",
   "name": "python3"
  },
  "language_info": {
   "codemirror_mode": {
    "name": "ipython",
    "version": 3
   },
   "file_extension": ".py",
   "mimetype": "text/x-python",
   "name": "python",
   "nbconvert_exporter": "python",
   "pygments_lexer": "ipython3",
   "version": "3.8.5"
  }
 },
 "nbformat": 4,
 "nbformat_minor": 4
}
