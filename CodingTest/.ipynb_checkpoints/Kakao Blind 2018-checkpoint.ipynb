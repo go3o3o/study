{
 "cells": [
  {
   "cell_type": "markdown",
   "metadata": {},
   "source": [
    "### 오픈채팅방"
   ]
  },
  {
   "cell_type": "code",
   "execution_count": null,
   "metadata": {},
   "outputs": [],
   "source": [
    "def solution(record):\n",
    "    answer = []\n",
    "    user_list = {}\n",
    "    for i in record:\n",
    "        status = i.split(' ')[0]\n",
    "        user_id = i.split(' ')[1]\n",
    "        nickname = i.split(' ')[2]\n",
    "        if status == 'Enter' or status == 'Change':\n",
    "            user_list[user_id] = nickname\n",
    "    for i in record:\n",
    "        status = i.split(' ')[0]\n",
    "        user_id = i.split(' ')[1]\n",
    "        if status == 'Enter':\n",
    "            answer.append(user_list[user_id] + '님이 들어왔습니다. ')\n",
    "        elif status == 'Leave':\n",
    "            answer.append(user_list[user_id] + '님이 나갔습니다. ')\n",
    "    return answer"
   ]
  },
  {
   "cell_type": "markdown",
   "metadata": {},
   "source": [
    "### 실패율"
   ]
  },
  {
   "cell_type": "code",
   "execution_count": null,
   "metadata": {},
   "outputs": [],
   "source": [
    "def solution(N, stages):\n",
    "    answer = []\n",
    "    length = len(stages)\n",
    "    for i in range(1, n + 1):\n",
    "        count = stages.count(i)\n",
    "        if length == 0:\n",
    "            fail = 0\n",
    "        else:\n",
    "            fail = count / length\n",
    "        answer.append((i, fail))\n",
    "        length -= count\n",
    "    answer = sorted(answer, key=lambda t: t[1], reverse=True)\n",
    "    answer = [i[0] for i in answer]\n",
    "    return answer"
   ]
  },
  {
   "cell_type": "markdown",
   "metadata": {},
   "source": [
    "### 후보키\n",
    "1. 모든 부분집합 구하기\n",
    "2. 부분집합 중에서 유일성을 만족하는 부분집합 구하기\n",
    "3. 유일성을 만족하는 부분집합 중에서 최소성을 만족하는 부분집합만 남기기"
   ]
  },
  {
   "cell_type": "code",
   "execution_count": null,
   "metadata": {},
   "outputs": [],
   "source": [
    "from itertools import chain, combinations\n",
    "\n",
    "# 모든 부분집합(열의 쌍)을 구하는 함수\n",
    "def get_all_subset(iterable):\n",
    "    s = list(iterable)\n",
    "    return chain.from_iterable(combinations(s, r) for r in range(len(s) + 1))\n",
    "\n",
    "# 부분집합 중에서 유일성을 만족하는 부분집합(열의 쌍)을 구하는 함수\n",
    "def get_all_union_subset(relation):\n",
    "    subset_list = get_all_subset(list(range(0, len(relation[0]))))\n",
    "    unique_list = []\n",
    "    for subset in subset_list:\n",
    "        unique = True\n",
    "        row_set = set()\n",
    "        for i in range(len(relation)):\n",
    "            row = ' '\n",
    "            for j in subset:\n",
    "                row += relation[i][j] + '.'\n",
    "            if row in row_set:\n",
    "                unique = False\n",
    "                break\n",
    "            row_set.add(row)\n",
    "        if unique:\n",
    "            unique_list.append(subset)\n",
    "    return unique_list\n",
    "    \n",
    "    "
   ]
  },
  {
   "cell_type": "code",
   "execution_count": null,
   "metadata": {},
   "outputs": [],
   "source": []
  },
  {
   "cell_type": "code",
   "execution_count": null,
   "metadata": {},
   "outputs": [],
   "source": []
  }
 ],
 "metadata": {
  "kernelspec": {
   "display_name": "Python 3",
   "language": "python",
   "name": "python3"
  },
  "language_info": {
   "codemirror_mode": {
    "name": "ipython",
    "version": 3
   },
   "file_extension": ".py",
   "mimetype": "text/x-python",
   "name": "python",
   "nbconvert_exporter": "python",
   "pygments_lexer": "ipython3",
   "version": "3.8.5"
  }
 },
 "nbformat": 4,
 "nbformat_minor": 4
}
