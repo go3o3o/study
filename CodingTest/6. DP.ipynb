{
 "cells": [
  {
   "cell_type": "markdown",
   "metadata": {},
   "source": [
    "1. 상태를 정의한다.\n",
    "2. 점화식을 찾는다(구한다).\n",
    "3. 시간복잡도를 계산하다.\n",
    "4. 코딩한다.\n",
    "\n",
    "### 푸는 방법\n",
    "1. Top-Down(재귀)\n",
    "2. Bottom-Up (반복문)"
   ]
  },
  {
   "cell_type": "markdown",
   "metadata": {},
   "source": [
    "### 백준1932_정수 삼각형"
   ]
  },
  {
   "cell_type": "code",
   "execution_count": null,
   "metadata": {},
   "outputs": [],
   "source": [
    "n = int(input())\n",
    "# a[i][j] = i, j 도착했을 때의 최댓값\n",
    "# dp[i][j] = max(dp[i - 1][j - 1], dp[i - 1][j] + a[i][j])\n",
    "a = [[0 for _ in range(n + 1)] for i in range(n + 1)]\n",
    "dp = [[0 for _ in range(n + 1)] for i in range(n + 1)]\n",
    "\n",
    "for i in range(n):\n",
    "    tmp = list(map(int, input().split()))\n",
    "    for j in range(1, i + 1):\n",
    "        a[i][j] = tmp[j - 1]\n",
    "print(a)\n",
    "\n",
    "for i in range(1, n + 1):\n",
    "    for j in range(1, i + 1):\n",
    "        dp[i][j] = max(dp[i - 1][j - 1], dp[i - 1][j] + a[i][j])\n",
    "print(dp)\n",
    "\n",
    "print(max(dp[-1]))"
   ]
  },
  {
   "cell_type": "markdown",
   "metadata": {},
   "source": [
    "### 백준11055_가장 큰 증가 부분 수열"
   ]
  },
  {
   "cell_type": "code",
   "execution_count": null,
   "metadata": {},
   "outputs": [],
   "source": [
    "import copy\n",
    "n = int(input())\n",
    "a = map(int, input().split())\n",
    "\n",
    "# dp[i] = i 까지 왔을 때, 합의 최대\n",
    "dp = copy.deepcopy(a)\n",
    "\n",
    "for i in range(1, n):\n",
    "    for j in range(i):\n",
    "        if a[i] > a[j]:\n",
    "            dp[i] = max(a[i] + dp[j], dp[i])\n",
    "print(max(dp))"
   ]
  },
  {
   "cell_type": "code",
   "execution_count": 5,
   "metadata": {},
   "outputs": [
    {
     "name": "stdout",
     "output_type": "stream",
     "text": [
      "10\n",
      "1 100 2 50 60 3 5 6 7 8\n",
      "[0, 0, 0, 2, 3, 2, 5, 6, 7, 8]\n",
      "113\n",
      "4 113\n"
     ]
    }
   ],
   "source": [
    "import copy\n",
    "n = int(input())\n",
    "a = list(map(int, input().split()))\n",
    "\n",
    "# dp[i] = i 까지 왔을 때, 합의 최대\n",
    "dp = copy.deepcopy(a)\n",
    "rev = [0 for _ in range(n)]\n",
    "\n",
    "idx = 0\n",
    "for i in range(1, n):\n",
    "    for j in range(i):\n",
    "        if a[i] > a[j] and dp[i] < a[i] + dp[j]:\n",
    "            dp[i] = a[i] + dp[j]\n",
    "            rev[i] = j\n",
    "            \n",
    "    if dp[idx] < dp[i]:\n",
    "        idx = i\n",
    "\n",
    "print(rev)        \n",
    "print(max(dp))\n",
    "print(idx, dp[idx])\n",
    "\n",
    "print(dp[idx])\n",
    "while rev[idx] != idx:\n",
    "    print(a[idx], sep = \" \")\n",
    "    idx = rev[idx]\n",
    "print(a[idx])"
   ]
  },
  {
   "cell_type": "markdown",
   "metadata": {},
   "source": [
    "### 백준2167_2차원 배열의 합"
   ]
  },
  {
   "cell_type": "code",
   "execution_count": 6,
   "metadata": {},
   "outputs": [
    {
     "name": "stdout",
     "output_type": "stream",
     "text": [
      "[0, 1, 2, 3, 4, 5, 6, 7, 8, 9]\n",
      "[0, 1, 3, 6, 10, 15, 21, 28, 36, 45]\n"
     ]
    }
   ],
   "source": [
    "## 누적합 구하기\n",
    "a = [i for i in range(10)]\n",
    "\n",
    "print(a)\n",
    "for i in range(1, len(a)):\n",
    "    a[i] = a[i - 1] + a[i]\n",
    "    \n",
    "print(a)\n",
    "\n",
    "# dp[i] = i 까지의 합\n",
    "# i부터 j까지의 합은 dp[i] - dp[j - 1]\n",
    "\n"
   ]
  },
  {
   "cell_type": "code",
   "execution_count": null,
   "metadata": {},
   "outputs": [],
   "source": [
    "n, m = map(int, input().split())\n",
    "a = [list(map(int, input().split())) for _ in range(n)]\n",
    "# dp[i][j] = 1, 1 부터 (i, j) 까지의 부분합\n",
    "dp = [[0 for i in range(m + 1)] for _ in range(n + 1)]\n",
    "\n",
    "for i in range(1, n + 1):\n",
    "    for j in range(1, m + 1):\n",
    "        dp[i][j] = dp[i - 1][j] + dp[i][j - 1] - dp[i - 1][j - 1] + a[i - 1][j - 1]\n",
    "        \n",
    "for _ in range(int(input())):\n",
    "    i, j, x, y = map(int, input().split())\n",
    "    print(dp[x][y] - dp[i - 1][y] - dp[x][j - 1] + dp[i - 1][j -1])"
   ]
  },
  {
   "cell_type": "markdown",
   "metadata": {},
   "source": [
    "### 백준1915_가장 큰 정사각형"
   ]
  },
  {
   "cell_type": "code",
   "execution_count": null,
   "metadata": {},
   "outputs": [],
   "source": [
    "n, m = map(int, input().split())\n",
    "a = [[0 for _ in range(m + 1)] for i in range(n + 1)]\n",
    "# dp[i][j] = i, j 까지 왔을 때, 가장 큰 정사각형의 한 변의 길이\n",
    "# dp[i][j] = min(dp[i - 1][j], dp[i - 1][j - 1], dp[i][j - 1]) + 1\n",
    "dp = [[0 for _ in range(m + 1)] for i in range(n + 1)]\n",
    "\n",
    "for i in range(n):\n",
    "    for idx, j in enumerate(list(map(int, list(input())))):\n",
    "        a[i + 1][idx + 1] = j\n",
    "\n",
    "max = 0\n",
    "for i in range(1, n + 1):\n",
    "    for j in range(1, m + 1):\n",
    "        if a[i][j]:\n",
    "            dp[i][j] = min(dp[i - 1][j], dp[i - 1][j - 1], dp[i][j - 1]) + 1\n",
    "            mx = max(dp[i][j], mx)\n",
    "\n",
    "print(mx**2)\n",
    "print(max([max(i) for i in dp])**2)"
   ]
  },
  {
   "cell_type": "markdown",
   "metadata": {},
   "source": [
    "### 백준12849_본대 산책"
   ]
  },
  {
   "cell_type": "code",
   "execution_count": 8,
   "metadata": {},
   "outputs": [
    {
     "name": "stdout",
     "output_type": "stream",
     "text": [
      "10\n",
      "9857\n"
     ]
    }
   ],
   "source": [
    "# 매시 0분에 어떤 지점에 도착할 수 있는 상태\n",
    "# 0: 정보과학관\n",
    "# 1: 전산관\n",
    "# 2: 미래관\n",
    "# 3: 신앙관\n",
    "# 4: 한경직기념관\n",
    "# 5: 진리관\n",
    "# 6: 학생회관\n",
    "# 7: 형남공학관\n",
    "dp = [1, 0, 0, 0, 0, 0, 0, 0]\n",
    "\n",
    "def nxt(state):\n",
    "    tmp = [0 for _ in range(8)]\n",
    "    tmp[0] = state[1] + state[2]\n",
    "    tmp[1] = state[0] + state[2] + state[3]\n",
    "    tmp[2] = state[0] + state[1] + state[3] + state[4]\n",
    "    tmp[3] = state[1] + state[2] + state[4] + state[5]\n",
    "    tmp[4] = state[2] + state[3] + state[5] + state[7]\n",
    "    tmp[5] = state[3] + state[4] + state[6]\n",
    "    tmp[6] = state[5] + state[7]\n",
    "    tmp[7] = state[4] + state[6]\n",
    "    for i in range(8):\n",
    "        tmp[i] %= 100000007\n",
    "    return tmp\n",
    "\n",
    "d = int(input())\n",
    "for i in range(d):\n",
    "    dp = nxt(dp)\n",
    "    \n",
    "print(dp[0])"
   ]
  },
  {
   "cell_type": "markdown",
   "metadata": {},
   "source": [
    "### 백준11066_파일 합치기"
   ]
  },
  {
   "cell_type": "code",
   "execution_count": 15,
   "metadata": {},
   "outputs": [
    {
     "name": "stdout",
     "output_type": "stream",
     "text": [
      "2\n",
      "4\n",
      "40 30 30 50\n",
      "300\n",
      "15\n",
      "1 21 3 4 5 35 5 4 3 5 98 21 14 17 32\n",
      "864\n"
     ]
    }
   ],
   "source": [
    "def process():\n",
    "    n, a = int(input()), [0] + list(map(int, input().split()))\n",
    "    \n",
    "    # s[i는 1번부터 i번까지의 누적합\n",
    "    s = [0 for _ in range(n + 1)]\n",
    "    for i in range(1, n + 1):\n",
    "        s[i] = s[i - 1] + a[i]\n",
    "        \n",
    "    # dp[i][j] = i 에서 j 까지 합하는데 필요한 최소 비용\n",
    "    # dp[i][k] + dp[k + 1][j] + sum(a[i]~a[j])\n",
    "    dp = [[0 for i in range(n + 1)] for _ in range(n + 1)]\n",
    "    for i in range(2, n + 1): # 부분파일의 길이\n",
    "        for j in range(1, n + 2 - i): # 시작점\n",
    "            dp[j][j + i - 1] = min([dp[j][j + k] + dp[j + k + 1][j + i - 1] \n",
    "                                    for k in range(i - 1)]) + (s[j + i - 1] - s[j - 1])\n",
    "#     for i in dp:\n",
    "#         print(i)\n",
    "    print(dp[1][n])\n",
    "    \n",
    "\n",
    "for _ in range(int(input())):\n",
    "    process()"
   ]
  },
  {
   "cell_type": "code",
   "execution_count": 16,
   "metadata": {},
   "outputs": [
    {
     "name": "stdout",
     "output_type": "stream",
     "text": [
      "2\n",
      "4\n",
      "40 30 30 50\n",
      "300\n",
      "15\n",
      "1 21 3 4 5 35 5 4 3 5 98 21 14 17 32\n",
      "864\n"
     ]
    }
   ],
   "source": [
    "tc = int(input())\n",
    "s, dp = 0, 0\n",
    "\n",
    "def f(i, j):\n",
    "    global s, dp\n",
    "    if i == j: return 0\n",
    "    if dp[i][j] != -1: return dp[i][j]\n",
    "    for k in range(i, j):\n",
    "        tmp = f(i, k) + f(k + 1, j) + s[j] - s[i - 1]\n",
    "        if dp[i][j] == -1 or dp[i][j] > tmp: dp[i][j] = tmp\n",
    "    return dp[i][j]\n",
    "\n",
    "\n",
    "def process():\n",
    "    global s, dp\n",
    "    n, a = int(input()), list(map(int, input().split()))\n",
    "    s = [0 for _ in range(n + 1)]\n",
    "    dp = [[-1 for _ in range(n + 1)] for i in range(n + 1)]\n",
    "    for i in range(1, n + 1):\n",
    "        s[i] = s[i - 1] + a[i - 1]\n",
    "    print(f(1, n))\n",
    "    \n",
    "for _ in range(tc):\n",
    "    process()\n"
   ]
  },
  {
   "cell_type": "code",
   "execution_count": null,
   "metadata": {},
   "outputs": [],
   "source": []
  }
 ],
 "metadata": {
  "kernelspec": {
   "display_name": "Python 3",
   "language": "python",
   "name": "python3"
  },
  "language_info": {
   "codemirror_mode": {
    "name": "ipython",
    "version": 3
   },
   "file_extension": ".py",
   "mimetype": "text/x-python",
   "name": "python",
   "nbconvert_exporter": "python",
   "pygments_lexer": "ipython3",
   "version": "3.6.8"
  }
 },
 "nbformat": 4,
 "nbformat_minor": 2
}
