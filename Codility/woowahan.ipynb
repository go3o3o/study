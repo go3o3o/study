{
 "cells": [
  {
   "cell_type": "code",
   "execution_count": 9,
   "metadata": {},
   "outputs": [
    {
     "name": "stdout",
     "output_type": "stream",
     "text": [
      "A+ B C+ F\n",
      "15 10 5 0\n",
      "40\n",
      "[10, 7, 6, 0] [15, 10, 5, 0]\n",
      "10 15\n",
      "7 10\n",
      "6 5\n",
      "0 0\n",
      "210\n"
     ]
    }
   ],
   "source": [
    "grades = list(input().split())\n",
    "weights = list(map(int, input().split()))\n",
    "threshold = int(input())\n",
    "\n",
    "result = 0\n",
    "scores = []\n",
    "for i in grades:\n",
    "    if i == 'A+':\n",
    "        scores.append(10)\n",
    "    if i == 'A':\n",
    "        scores.append(8)\n",
    "    if i == 'B+':\n",
    "        scores.append(8)\n",
    "    if i == 'B':\n",
    "        scores.append(7)\n",
    "    if i == 'C+':\n",
    "        scores.append(6)\n",
    "    if i == 'C':\n",
    "        scores.append(5)\n",
    "    if i == 'D+':\n",
    "        scores.append(4)\n",
    "    if i == 'D':\n",
    "        scores.append(3)\n",
    "    if i == 'F':\n",
    "        scores.append(0)\n",
    "# print(scores, weights)     \n",
    "        \n",
    "for i in range(0, len(scores)):\n",
    "#     print(scores[i], weights[i])\n",
    "    result += scores[i] * weights[i]\n",
    "    \n",
    "result -= threshold\n",
    "\n",
    "print(result)"
   ]
  },
  {
   "cell_type": "code",
   "execution_count": 19,
   "metadata": {},
   "outputs": [
    {
     "name": "stdout",
     "output_type": "stream",
     "text": [
      "942123\n",
      "-\n",
      "9 42123\n",
      "94 2123\n",
      "942 123\n",
      "9421 23\n",
      "94212 3\n",
      "60283\n"
     ]
    }
   ],
   "source": [
    "s = input()\n",
    "op = input()\n",
    "\n",
    "lst = list(map(int, s))\n",
    "result = 0\n",
    "for i in range(1, len(s)):\n",
    "    print(s[:i], s[i:])\n",
    "    start = int(s[:i])\n",
    "    end = int(s[i:])\n",
    "    if op == '+':\n",
    "        result += start + end\n",
    "    if op == '*':\n",
    "        result += start * end\n",
    "    if op == '-':\n",
    "        result += start - end\n",
    "        \n",
    "print(result)\n",
    "    \n",
    "\n"
   ]
  },
  {
   "cell_type": "code",
   "execution_count": null,
   "metadata": {},
   "outputs": [],
   "source": []
  }
 ],
 "metadata": {
  "kernelspec": {
   "display_name": "Python 3",
   "language": "python",
   "name": "python3"
  },
  "language_info": {
   "codemirror_mode": {
    "name": "ipython",
    "version": 3
   },
   "file_extension": ".py",
   "mimetype": "text/x-python",
   "name": "python",
   "nbconvert_exporter": "python",
   "pygments_lexer": "ipython3",
   "version": "3.6.8"
  }
 },
 "nbformat": 4,
 "nbformat_minor": 2
}
