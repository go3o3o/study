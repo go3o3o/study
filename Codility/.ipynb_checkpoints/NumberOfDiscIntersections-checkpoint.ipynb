{
 "cells": [
  {
   "cell_type": "code",
   "execution_count": 4,
   "metadata": {},
   "outputs": [
    {
     "name": "stdout",
     "output_type": "stream",
     "text": [
      "11\n"
     ]
    }
   ],
   "source": [
    "def solve(A):\n",
    "    upper, lower = list(), list()\n",
    "    result = 0\n",
    "    \n",
    "    for i in range(len(A)):\n",
    "        lower.append(i - A[i])\n",
    "        upper.append(i + A[i])\n",
    "    \n",
    "    lower.sort()\n",
    "    upper.sort()\n",
    "    \n",
    "    count = 0 # 교차되는 디스크를 세기 위한 변수\n",
    "    idx_upper = 0 # 현재 upper 의 위치\n",
    "    \n",
    "    for i in lower:\n",
    "        while i > upper[idx_upper]:\n",
    "            count -= 1\n",
    "            idx_upper +=1\n",
    "        result += count\n",
    "        count += 1\n",
    "        if result > 100000000 : return -1\n",
    "    return result\n",
    "\n",
    "A = [1, 5, 2, 1, 4, 0]\n",
    "print(solve(A))\n",
    "    "
   ]
  },
  {
   "cell_type": "code",
   "execution_count": null,
   "metadata": {},
   "outputs": [],
   "source": []
  }
 ],
 "metadata": {
  "kernelspec": {
   "display_name": "Python 3",
   "language": "python",
   "name": "python3"
  },
  "language_info": {
   "codemirror_mode": {
    "name": "ipython",
    "version": 3
   },
   "file_extension": ".py",
   "mimetype": "text/x-python",
   "name": "python",
   "nbconvert_exporter": "python",
   "pygments_lexer": "ipython3",
   "version": "3.8.5"
  }
 },
 "nbformat": 4,
 "nbformat_minor": 4
}
