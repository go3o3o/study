{
 "cells": [
  {
   "cell_type": "code",
   "execution_count": 44,
   "metadata": {},
   "outputs": [
    {
     "name": "stdout",
     "output_type": "stream",
     "text": [
      "0\n"
     ]
    }
   ],
   "source": [
    "def solution(A):\n",
    "    result = 0\n",
    "    L = len(A)\n",
    "    if L == 2: return result\n",
    "    \n",
    "    min_val = sum(A[0:2]) // 2\n",
    "    \n",
    "    for i in range(1, L):\n",
    "        if len(A[i:i+2]) < 2:\n",
    "            break\n",
    "        tmp = sum(A[i:i+2]) // 2\n",
    "        if tmp < min_val:\n",
    "            min_val = tmp\n",
    "            result = i\n",
    "        if len(A[i-1:i+3]) < 3:\n",
    "            break\n",
    "        tmp = sum(A[i:i+3]) // 3\n",
    "        if tmp < min_val:\n",
    "            min_val = tmp\n",
    "            result = i \n",
    "#         print(result)\n",
    "    return result\n",
    "\n",
    "A = [2, 8, 2]\n",
    "print(solution(A))"
   ]
  },
  {
   "cell_type": "code",
   "execution_count": 2,
   "metadata": {},
   "outputs": [
    {
     "name": "stdout",
     "output_type": "stream",
     "text": [
      "1\n",
      "0\n"
     ]
    }
   ],
   "source": [
    "def solution(A):\n",
    "    N = len(A)\n",
    "    min = sum(A[0:2])/2\n",
    "    result = 0\n",
    "    if N == 2: return result\n",
    "    \n",
    "    for i in range(3,N+1):\n",
    "        avg = sum(A[i-2:i])//2\n",
    "        if avg < min:\n",
    "            result = i-2\n",
    "            min = avg\n",
    "        avg = sum(A[i-3:i])//3\n",
    "        print(avg)\n",
    "        if avg < min:\n",
    "            result = i-3\n",
    "            min = avg\n",
    "    return result\n",
    "A = [1, 1, 1]\n",
    "print(solution(A))"
   ]
  },
  {
   "cell_type": "code",
   "execution_count": null,
   "metadata": {},
   "outputs": [],
   "source": []
  }
 ],
 "metadata": {
  "kernelspec": {
   "display_name": "Python 3",
   "language": "python",
   "name": "python3"
  },
  "language_info": {
   "codemirror_mode": {
    "name": "ipython",
    "version": 3
   },
   "file_extension": ".py",
   "mimetype": "text/x-python",
   "name": "python",
   "nbconvert_exporter": "python",
   "pygments_lexer": "ipython3",
   "version": "3.6.8"
  }
 },
 "nbformat": 4,
 "nbformat_minor": 2
}
