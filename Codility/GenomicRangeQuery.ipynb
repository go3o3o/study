{
 "cells": [
  {
   "cell_type": "code",
   "execution_count": 33,
   "metadata": {},
   "outputs": [
    {
     "name": "stdout",
     "output_type": "stream",
     "text": [
      "[2, 1, 3, 2, 2, 4, 1]\n",
      "[3, 2, 2]\n",
      "[4]\n",
      "[2, 1, 3, 2, 2, 4, 1]\n",
      "[2, 4, 1]\n"
     ]
    }
   ],
   "source": [
    "# A, C, G, T - 1, 2, 3, 4\n",
    "def solution(S, P, Q):\n",
    "    lst = [0] * len(S)\n",
    "    result = []\n",
    "    for i in range(len(S)):\n",
    "        if S[i] == 'A':\n",
    "            lst[i] = 1\n",
    "        if S[i] == 'C':\n",
    "            lst[i] = 2\n",
    "        if S[i] == 'G':\n",
    "            lst[i] = 3\n",
    "        if S[i] == 'T':\n",
    "            lst[i] = 4\n",
    "    print(lst)\n",
    "    for i in range(len(P)):\n",
    "        print(lst[P[i]:Q[i] + 1])\n",
    "        result.append(min(lst[P[i]:Q[i] + 1]))\n",
    "    print(result)\n",
    "\n",
    "S = 'CAGCCTA'\n",
    "P = [2, 5, 0]\n",
    "Q = [4, 5, 6]\n",
    "\n",
    "solution(S, P, Q)"
   ]
  },
  {
   "cell_type": "code",
   "execution_count": 39,
   "metadata": {},
   "outputs": [
    {
     "name": "stdout",
     "output_type": "stream",
     "text": [
      "[2, 4, 1]\n"
     ]
    }
   ],
   "source": [
    "def solution(S, P, Q):\n",
    "    \n",
    "    N = len(S)\n",
    "    A = [0] * N\n",
    "    C = [0] * N\n",
    "    G = [0] * N\n",
    "    \n",
    "    if S[0] == 'A':\n",
    "        A[0] = 1\n",
    "    elif S[0] == 'C':\n",
    "        C[0] = 1\n",
    "    elif S[0] == 'G':\n",
    "        G[0] = 1\n",
    "    \n",
    "    for i in range(1, N):\n",
    "        A[i] = A[i-1]\n",
    "        C[i] = C[i-1]\n",
    "        G[i] = G[i-1]\n",
    "        \n",
    "        if S[i] == 'A':\n",
    "            A[i] = A[i-1] + 1\n",
    "        elif S[i] == 'C':\n",
    "            C[i] = C[i-1] + 1\n",
    "        elif S[i] == 'G':\n",
    "            G[i] = G[i-1] + 1\n",
    "\n",
    "    M = len(P)\n",
    "    ret = []\n",
    "    for p, q in zip(P, Q):\n",
    "        if p == 0:\n",
    "            if A[q] > 0:\n",
    "                ret.append(1)\n",
    "            elif C[q] > 0:\n",
    "                ret.append(2)\n",
    "            elif G[q] > 0:\n",
    "                ret.append(3)\n",
    "            else:\n",
    "                ret.append(4)\n",
    "        else:\n",
    "            minimum = 4\n",
    "            if A[q] - A[p-1] != 0:\n",
    "                minimum = 1\n",
    "            elif C[q] - C[p-1] != 0:\n",
    "                minimum = 2\n",
    "            elif G[q] - G[p-1] != 0:\n",
    "                minimum = 3\n",
    "            ret.append(minimum)\n",
    "    \n",
    "    print(ret)\n",
    "    \n",
    "    \n",
    "S = 'CAGCCTA'\n",
    "P = [2, 5, 0]\n",
    "Q = [4, 5, 6]\n",
    "\n",
    "solution(S, P, Q)"
   ]
  },
  {
   "cell_type": "code",
   "execution_count": null,
   "metadata": {},
   "outputs": [],
   "source": []
  }
 ],
 "metadata": {
  "kernelspec": {
   "display_name": "Python 3",
   "language": "python",
   "name": "python3"
  },
  "language_info": {
   "codemirror_mode": {
    "name": "ipython",
    "version": 3
   },
   "file_extension": ".py",
   "mimetype": "text/x-python",
   "name": "python",
   "nbconvert_exporter": "python",
   "pygments_lexer": "ipython3",
   "version": "3.6.8"
  }
 },
 "nbformat": 4,
 "nbformat_minor": 2
}
