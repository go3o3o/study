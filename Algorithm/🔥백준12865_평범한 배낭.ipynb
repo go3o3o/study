{
 "cells": [
  {
   "cell_type": "markdown",
   "metadata": {},
   "source": [
    "D[i][j] = 배낭에 넣은 물품의 무게 합이 j일 때 얻을 수 있는 최대 가치\n",
    "\n"
   ]
  },
  {
   "cell_type": "code",
   "execution_count": 7,
   "metadata": {
    "scrolled": false
   },
   "outputs": [
    {
     "name": "stdout",
     "output_type": "stream",
     "text": [
      "4 7\n",
      "[[0, 0, 0, 0, 0, 0, 0, 0], [0, 0, 0, 0, 0, 0, 0, 0], [0, 0, 0, 0, 0, 0, 0, 0], [0, 0, 0, 0, 0, 0, 0, 0], [0, 0, 0, 0, 0, 0, 0, 0]]\n",
      "6 13\n",
      "0 13\n",
      "0 13\n",
      "\n",
      "4 8\n",
      "0 8\n",
      "0 8\n",
      "13 8\n",
      "13 8\n",
      "\n",
      "3 6\n",
      "0 6\n",
      "8 6\n",
      "8 6\n",
      "13 6\n",
      "13 14\n",
      "\n",
      "5 12\n",
      "8 12\n",
      "13 12\n",
      "14 12\n",
      "\n",
      "14\n"
     ]
    }
   ],
   "source": [
    "n, k = list(map(int, input().split()))\n",
    "\n",
    "dp = [[0] * (k + 1) for _ in range(n + 1)]\n",
    "\n",
    "print(dp)\n",
    "\n",
    "for i in range(1, n + 1):\n",
    "    w, v = map(int, input().split())\n",
    "    for j in range(1, k + 1):\n",
    "        if j < w:\n",
    "            dp[i][j] = dp[i - 1][j]\n",
    "        else:\n",
    "            print(dp[i - 1][j], dp[i - 1][j - w] + v)\n",
    "            dp[i][j] = max(dp[i - 1][j], dp[i - 1][j - w] + v)\n",
    "    print()\n",
    "        \n",
    "print(dp[n][k])\n",
    "    "
   ]
  }
 ],
 "metadata": {
  "kernelspec": {
   "display_name": "Python 3",
   "language": "python",
   "name": "python3"
  },
  "language_info": {
   "codemirror_mode": {
    "name": "ipython",
    "version": 3
   },
   "file_extension": ".py",
   "mimetype": "text/x-python",
   "name": "python",
   "nbconvert_exporter": "python",
   "pygments_lexer": "ipython3",
   "version": "3.6.8"
  }
 },
 "nbformat": 4,
 "nbformat_minor": 2
}
