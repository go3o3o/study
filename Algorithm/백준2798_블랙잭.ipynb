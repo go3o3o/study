{
 "cells": [
  {
   "cell_type": "code",
   "execution_count": 5,
   "metadata": {},
   "outputs": [
    {
     "name": "stdout",
     "output_type": "stream",
     "text": [
      "5 21\n",
      "5 6 7 8 9\n",
      "5 5\n",
      "21\n"
     ]
    }
   ],
   "source": [
    "n, m = list(map(int, input().split(' ')))\n",
    "# info = input().split(' ')\n",
    "# n = info[0]\n",
    "# m = info[1]\n",
    "\n",
    "data = list(map(int, input().split(' ')))\n",
    "# data = input().split(' ')\n",
    "if n != len(data):\n",
    "    print('Wrong')\n",
    "    \n",
    "length = len(data)\n",
    "\n",
    "result = 0\n",
    "for i in range(0, length):\n",
    "    for j in range(i + 1, length):\n",
    "        for z in range(j + 1, length):\n",
    "            sum_value = data[i] + data[j] + data[z]\n",
    "            if sum_value <= m:\n",
    "                result = max(result, sum_value)\n",
    "\n",
    "print(result)\n"
   ]
  },
  {
   "cell_type": "code",
   "execution_count": null,
   "metadata": {},
   "outputs": [],
   "source": []
  }
 ],
 "metadata": {
  "kernelspec": {
   "display_name": "Python 3",
   "language": "python",
   "name": "python3"
  },
  "language_info": {
   "codemirror_mode": {
    "name": "ipython",
    "version": 3
   },
   "file_extension": ".py",
   "mimetype": "text/x-python",
   "name": "python",
   "nbconvert_exporter": "python",
   "pygments_lexer": "ipython3",
   "version": "3.6.8"
  }
 },
 "nbformat": 4,
 "nbformat_minor": 2
}
