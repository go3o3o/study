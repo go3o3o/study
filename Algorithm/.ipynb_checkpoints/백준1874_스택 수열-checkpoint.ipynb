{
 "cells": [
  {
   "cell_type": "code",
   "execution_count": 6,
   "metadata": {},
   "outputs": [
    {
     "name": "stdout",
     "output_type": "stream",
     "text": [
      "8\n",
      "4\n",
      "3\n",
      "6\n",
      "8\n",
      "7\n",
      "5\n",
      "2\n",
      "1\n",
      "['+', '+', '+', '+', '-', '-', '+', '+', '-', '+', '+', '-', '-', '-', '-', '-']\n"
     ]
    }
   ],
   "source": [
    "n = int(input())\n",
    "8\n",
    "4\n",
    "3\n",
    "6\n",
    "8\n",
    "7\n",
    "5\n",
    "2\n",
    "1\n",
    "count = 1\n",
    "stack = []\n",
    "result = []\n",
    "for i in range(1, n + 1): # 데이터 개수만큼 반복\n",
    "    data = int(input())\n",
    "    while count <= data: # 입력 받은 데이터에 도달할 때까지 삽입\n",
    "        stack.append(count)\n",
    "        count += 1\n",
    "        result.append('+')\n",
    "    if stack[-1] == data:\n",
    "        stack.pop()\n",
    "        result.append('-')\n",
    "    else:\n",
    "        print('No')\n",
    "        exit(0)\n",
    "\n",
    "print(result)\n",
    "            "
   ]
  }
 ],
 "metadata": {
  "kernelspec": {
   "display_name": "Python 3",
   "language": "python",
   "name": "python3"
  },
  "language_info": {
   "codemirror_mode": {
    "name": "ipython",
    "version": 3
   },
   "file_extension": ".py",
   "mimetype": "text/x-python",
   "name": "python",
   "nbconvert_exporter": "python",
   "pygments_lexer": "ipython3",
   "version": "3.6.8"
  }
 },
 "nbformat": 4,
 "nbformat_minor": 2
}
