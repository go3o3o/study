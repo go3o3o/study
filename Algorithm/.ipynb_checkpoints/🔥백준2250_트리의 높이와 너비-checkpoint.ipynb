{
 "cells": [
  {
   "cell_type": "code",
   "execution_count": 2,
   "metadata": {},
   "outputs": [],
   "source": [
    "class Node:\n",
    "    def __init__(self, number, left_node, right_node):\n",
    "        self.parent = -1\n",
    "        self.number = number\n",
    "        self.left_node = left_node\n",
    "        self.right_node = right_node\n",
    "    \n",
    "def in_order(node, level):\n",
    "    global level_depth, x\n",
    "    level_depth = max(level_depth, level)\n",
    "    if node.left_node != -1:\n",
    "        in_order(tree[node.left_node], level + 1)\n",
    "    level_min[level] = min(level_min[level], x)\n",
    "    level_max[level] = max(level_max[level], x)\n",
    "    x += 1\n",
    "    if node.right_node != -1:\n",
    "        in_order(tree[node.right_node], level + 1)"
   ]
  },
  {
   "cell_type": "code",
   "execution_count": 15,
   "metadata": {},
   "outputs": [
    {
     "name": "stdout",
     "output_type": "stream",
     "text": [
      "4\n",
      "{1: <__main__.Node object at 0x7ff576e1e070>}\n",
      "{1: <__main__.Node object at 0x7ff576e1e070>, 2: <__main__.Node object at 0x7ff576e587c0>}\n",
      "{1: <__main__.Node object at 0x7ff576e1e070>, 2: <__main__.Node object at 0x7ff576e587c0>, 3: <__main__.Node object at 0x7ff576f33b50>}\n",
      "{1: <__main__.Node object at 0x7ff576e1e070>, 2: <__main__.Node object at 0x7ff576e587c0>, 3: <__main__.Node object at 0x7ff576f33b50>, 4: <__main__.Node object at 0x7ff576f41c40>}\n",
      "1 2 3\n",
      "2 -1 -1\n",
      "3 -1 -1\n",
      "4 -1 -1\n",
      "1 1\n"
     ]
    }
   ],
   "source": [
    "n = int(input())\n",
    "array = list()\n",
    "tree = {}\n",
    "level_min = [n]\n",
    "level_max = [0]\n",
    "root = -1\n",
    "x = 1\n",
    "level_depth = 1\n",
    "\n",
    "for i in range(1, n + 1):\n",
    "    tree[i] = Node(i, -1, -1)\n",
    "    level_min.append(n)\n",
    "    level_max.append(0)\n",
    "    \n",
    "for _ in range(n):\n",
    "    number, left_node, right_node = map(int, input().split())\n",
    "    tree[number].left_node = left_node\n",
    "    tree[number].right_node = right_node\n",
    "    if left_node != -1:\n",
    "        tree[left_node].parent = number\n",
    "    if right_node != -1:\n",
    "        tree[right_node].parent = number\n",
    "        \n",
    "for i in range(1, n + 1):\n",
    "    if tree[i].parent == -1:\n",
    "        root = i\n",
    "\n",
    "in_order(tree[root], 1)\n",
    "\n",
    "result_level = 1\n",
    "result_width = level_max[1] - level_min[1] + 1\n",
    "for i in range(2, level_depth + 1):\n",
    "    width = level_max[i] - level_min[i] + 1\n",
    "    if result_width < width:\n",
    "        result_level = i\n",
    "        result_width = width\n",
    "print(result_level, result_width)\n"
   ]
  }
 ],
 "metadata": {
  "kernelspec": {
   "display_name": "Python 3",
   "language": "python",
   "name": "python3"
  },
  "language_info": {
   "codemirror_mode": {
    "name": "ipython",
    "version": 3
   },
   "file_extension": ".py",
   "mimetype": "text/x-python",
   "name": "python",
   "nbconvert_exporter": "python",
   "pygments_lexer": "ipython3",
   "version": "3.8.5"
  }
 },
 "nbformat": 4,
 "nbformat_minor": 4
}
