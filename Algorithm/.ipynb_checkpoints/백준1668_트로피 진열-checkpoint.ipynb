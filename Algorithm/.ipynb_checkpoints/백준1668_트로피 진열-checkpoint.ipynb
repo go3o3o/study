{
 "cells": [
  {
   "cell_type": "code",
   "execution_count": 24,
   "metadata": {},
   "outputs": [
    {
     "name": "stdout",
     "output_type": "stream",
     "text": [
      "4\n",
      "1\n",
      "2\n",
      "3\n",
      "4\n",
      "4 1\n"
     ]
    }
   ],
   "source": [
    "n = int(input())\n",
    "\n",
    "array = list()\n",
    "for _ in range(n):\n",
    "    x = int(input())\n",
    "    array.append(x)\n",
    "\n",
    "left = 1\n",
    "leftP = 0\n",
    "for i in range(0, len(array)):\n",
    "    # 1 2 3 4 5 \n",
    "    if array[leftP] < array[i]:\n",
    "        left += 1\n",
    "        leftP = i\n",
    "        \n",
    "right = 1\n",
    "rightP = 0\n",
    "for i in range(len(array), 0):\n",
    "    if array[right]  < array[i]:\n",
    "        right += 1\n",
    "        rightP = i\n",
    "print(left, right)"
   ]
  },
  {
   "cell_type": "markdown",
   "metadata": {},
   "source": [
    "## solution"
   ]
  },
  {
   "cell_type": "code",
   "execution_count": 25,
   "metadata": {},
   "outputs": [],
   "source": [
    "def ascending(array):\n",
    "    now = array[0]\n",
    "    result = 1\n",
    "    for i in range(1, len(array)):\n",
    "        if now < array[i]:\n",
    "            result += 1\n",
    "            now = array[i]\n",
    "    return result"
   ]
  },
  {
   "cell_type": "code",
   "execution_count": 27,
   "metadata": {},
   "outputs": [
    {
     "name": "stdout",
     "output_type": "stream",
     "text": [
      "5\n",
      "1\n",
      "2\n",
      "3\n",
      "4\n",
      "5\n",
      "5\n",
      "1\n"
     ]
    }
   ],
   "source": [
    "n = int(input())\n",
    "array = []\n",
    "\n",
    "for _ in range(n):\n",
    "    array.append(int(input()))\n",
    "print(ascending(array))\n",
    "array.reverse()\n",
    "print(ascending(array))"
   ]
  },
  {
   "cell_type": "code",
   "execution_count": null,
   "metadata": {},
   "outputs": [],
   "source": []
  }
 ],
 "metadata": {
  "kernelspec": {
   "display_name": "Python 3",
   "language": "python",
   "name": "python3"
  },
  "language_info": {
   "codemirror_mode": {
    "name": "ipython",
    "version": 3
   },
   "file_extension": ".py",
   "mimetype": "text/x-python",
   "name": "python",
   "nbconvert_exporter": "python",
   "pygments_lexer": "ipython3",
   "version": "3.6.8"
  }
 },
 "nbformat": 4,
 "nbformat_minor": 2
}
