{
 "cells": [
  {
   "cell_type": "code",
   "execution_count": 11,
   "metadata": {},
   "outputs": [
    {
     "name": "stdout",
     "output_type": "stream",
     "text": [
      "4 4\n",
      "x . . .\n",
      "x . . .\n",
      "x . . .\n",
      "x . . .\n",
      "3\n"
     ]
    }
   ],
   "source": [
    "n, m = list(map(int, input().split()))\n",
    "\n",
    "castle = list()\n",
    "row = [0] * n\n",
    "col = [0] * m\n",
    "x = 0\n",
    "y = 0\n",
    "for _ in range(m):\n",
    "    status = input().split()\n",
    "    if 'x' in status:\n",
    "        castle.append((_, status.index('x')))\n",
    "# print(castle)\n",
    "for i in castle:\n",
    "    if i[0] in row:\n",
    "        row.pop(i[0])\n",
    "    if i[1] in col:\n",
    "        col.pop(i[1])\n",
    "\n",
    "print(max(len(col), len(row)))"
   ]
  },
  {
   "cell_type": "markdown",
   "metadata": {},
   "source": [
    "## solution"
   ]
  },
  {
   "cell_type": "code",
   "execution_count": 14,
   "metadata": {},
   "outputs": [
    {
     "name": "stdout",
     "output_type": "stream",
     "text": [
      "4 4\n",
      "x . . .\n",
      "x . . .\n",
      "x . . .\n",
      "x . . .\n",
      "3\n"
     ]
    }
   ],
   "source": [
    "n, m = map(int, input().split())\n",
    "array = []\n",
    "\n",
    "for _ in range(n):\n",
    "    array.append(input())\n",
    "\n",
    "row = [0] * n\n",
    "col = [0] * m\n",
    "\n",
    "for i in range(n):\n",
    "    for j in range(m):\n",
    "        if array[i][j] == 'x':\n",
    "            row[i] = 1\n",
    "            col[j] = 1\n",
    "row_count = 0\n",
    "for i in range(n):\n",
    "    if row[i] == 0:\n",
    "        row_count += 1\n",
    "col_count = 0\n",
    "for j in range(m):\n",
    "    if col[j] == 0:\n",
    "        col_count += 1\n",
    "print(max(row_count, col_count))"
   ]
  },
  {
   "cell_type": "code",
   "execution_count": null,
   "metadata": {},
   "outputs": [],
   "source": []
  }
 ],
 "metadata": {
  "kernelspec": {
   "display_name": "Python 3",
   "language": "python",
   "name": "python3"
  },
  "language_info": {
   "codemirror_mode": {
    "name": "ipython",
    "version": 3
   },
   "file_extension": ".py",
   "mimetype": "text/x-python",
   "name": "python",
   "nbconvert_exporter": "python",
   "pygments_lexer": "ipython3",
   "version": "3.6.8"
  }
 },
 "nbformat": 4,
 "nbformat_minor": 2
}
