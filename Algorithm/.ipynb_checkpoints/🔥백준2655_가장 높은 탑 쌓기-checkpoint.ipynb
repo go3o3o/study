{
 "cells": [
  {
   "cell_type": "markdown",
   "metadata": {},
   "source": [
    "### LIS\n",
    "- D[i] = 인덱스가 i 인 벽돌을 가장 아래에 두었을 때의 최대 높이\n",
    "- 모든 0 <= j < i 에 대하여, D[i] = max(D[i], D[j] - height[i]) if array[i] > array[j]"
   ]
  },
  {
   "cell_type": "code",
   "execution_count": 1,
   "metadata": {},
   "outputs": [
    {
     "name": "stdout",
     "output_type": "stream",
     "text": [
      "5\n",
      "25 3 4\n",
      "4 4 6\n",
      "9 2 3\n",
      "16 2 5\n",
      "1 5 2\n",
      "3\n",
      "5\n",
      "3\n",
      "1\n"
     ]
    },
    {
     "data": {
      "text/plain": [
       "[None, None, None]"
      ]
     },
     "execution_count": 1,
     "metadata": {},
     "output_type": "execute_result"
    }
   ],
   "source": [
    "n = int(input())\n",
    "\n",
    "array = list()\n",
    "array.append((0, 0, 0, 0))\n",
    "\n",
    "for i in range(1, n + 1):\n",
    "    area, height, weight = map(int, input().split())\n",
    "    array.append((i, area, height, weight))\n",
    "    \n",
    "# 무게를 기준으로 정렬\n",
    "array.sort(key=lambda data: data[3])\n",
    "\n",
    "dp = [0] * (n + 1)\n",
    "\n",
    "for i in range(1, n + 1):\n",
    "    for j in range(0, i):\n",
    "        if array[i][1] > array[j][1]:\n",
    "            dp[i] = max(dp[i], dp[j] + array[i][2])\n",
    "            \n",
    "max_value = max(dp)\n",
    "index = n\n",
    "result = []\n",
    "while index != 0:\n",
    "    if max_value == dp[index]:\n",
    "        result.append(array[index][0])\n",
    "        max_value -= array[index][2]\n",
    "    index -= 1\n",
    "result.reverse()\n",
    "print(len(result))\n",
    "[print(i) for i in result]\n",
    "    "
   ]
  },
  {
   "cell_type": "code",
   "execution_count": null,
   "metadata": {},
   "outputs": [],
   "source": [
    "5\n",
    "25 3 4\n",
    "4 4 6\n",
    "9 2 3\n",
    "16 2 5\n",
    "1 5 2"
   ]
  }
 ],
 "metadata": {
  "kernelspec": {
   "display_name": "Python 3",
   "language": "python",
   "name": "python3"
  },
  "language_info": {
   "codemirror_mode": {
    "name": "ipython",
    "version": 3
   },
   "file_extension": ".py",
   "mimetype": "text/x-python",
   "name": "python",
   "nbconvert_exporter": "python",
   "pygments_lexer": "ipython3",
   "version": "3.6.8"
  }
 },
 "nbformat": 4,
 "nbformat_minor": 2
}
