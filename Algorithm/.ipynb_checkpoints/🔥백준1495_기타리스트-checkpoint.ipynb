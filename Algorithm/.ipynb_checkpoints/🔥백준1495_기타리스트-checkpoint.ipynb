{
 "cells": [
  {
   "cell_type": "markdown",
   "metadata": {},
   "source": [
    "### 모든 볼륨에 대하여 연주 가능 여부를 계산하기\n",
    "- D[i][j + 1] = i번째 노래일 때 j 크기의 볼륨으로 연주 가능한지 여부\n",
    "- D[i][j - V[i]] = True if D[i - j][j] = True\n",
    "- D[i][j + V[i]] = True if D[i - 1][j] = True"
   ]
  },
  {
   "cell_type": "code",
   "execution_count": 5,
   "metadata": {},
   "outputs": [
    {
     "name": "stdout",
     "output_type": "stream",
     "text": [
      "3 5 10\n",
      "5 3 7\n",
      "10\n"
     ]
    }
   ],
   "source": [
    "n, s, m = map(int, input().split())\n",
    "array = list(map(int, input().split()))\n",
    "\n",
    "dp = [[0] * (m + 1) for _ in range(n + 1)]\n",
    "dp[0][s] = 1\n",
    "\n",
    "for i in range(1, n + 1):\n",
    "    for j in range(m + 1):\n",
    "        if dp[i - 1][j] == 0:\n",
    "            continue \n",
    "        if j - array[i - 1] >= 0:\n",
    "            dp[i][j - array[i - 1]] = 1\n",
    "        if j + array[i - 1] <= m:\n",
    "            dp[i][j + array[i - 1]] = 1\n",
    "result = -1\n",
    "for i in range(m, -1, -1):\n",
    "    if dp[n][i] == 1:\n",
    "        result = i\n",
    "        break\n",
    "print(result)"
   ]
  },
  {
   "cell_type": "code",
   "execution_count": null,
   "metadata": {},
   "outputs": [],
   "source": []
  }
 ],
 "metadata": {
  "kernelspec": {
   "display_name": "Python 3",
   "language": "python",
   "name": "python3"
  },
  "language_info": {
   "codemirror_mode": {
    "name": "ipython",
    "version": 3
   },
   "file_extension": ".py",
   "mimetype": "text/x-python",
   "name": "python",
   "nbconvert_exporter": "python",
   "pygments_lexer": "ipython3",
   "version": "3.6.8"
  }
 },
 "nbformat": 4,
 "nbformat_minor": 2
}
