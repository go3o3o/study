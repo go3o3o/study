{
 "cells": [
  {
   "cell_type": "code",
   "execution_count": 3,
   "metadata": {
    "scrolled": false
   },
   "outputs": [
    {
     "name": "stdout",
     "output_type": "stream",
     "text": [
      "5 17\n",
      "deque([5])\n",
      "deque([4, 6, 10])\n",
      "deque([6, 10, 3, 5, 8])\n",
      "deque([10, 3, 5, 8, 7, 12])\n",
      "deque([3, 5, 8, 7, 12, 9, 11, 20])\n",
      "deque([5, 8, 7, 12, 9, 11, 20, 2])\n",
      "deque([8, 7, 12, 9, 11, 20, 2])\n",
      "deque([7, 12, 9, 11, 20, 2, 16])\n",
      "deque([12, 9, 11, 20, 2, 16, 14])\n",
      "deque([9, 11, 20, 2, 16, 14, 13, 24])\n",
      "deque([11, 20, 2, 16, 14, 13, 24, 18])\n",
      "deque([20, 2, 16, 14, 13, 24, 18, 22])\n",
      "deque([2, 16, 14, 13, 24, 18, 22, 19, 21, 40])\n",
      "deque([16, 14, 13, 24, 18, 22, 19, 21, 40, 1])\n",
      "deque([14, 13, 24, 18, 22, 19, 21, 40, 1, 15, 17, 32])\n",
      "deque([13, 24, 18, 22, 19, 21, 40, 1, 15, 17, 32, 28])\n",
      "deque([24, 18, 22, 19, 21, 40, 1, 15, 17, 32, 28, 26])\n",
      "deque([18, 22, 19, 21, 40, 1, 15, 17, 32, 28, 26, 23, 25, 48])\n",
      "deque([22, 19, 21, 40, 1, 15, 17, 32, 28, 26, 23, 25, 48, 36])\n",
      "deque([19, 21, 40, 1, 15, 17, 32, 28, 26, 23, 25, 48, 36, 44])\n",
      "deque([21, 40, 1, 15, 17, 32, 28, 26, 23, 25, 48, 36, 44, 38])\n",
      "deque([40, 1, 15, 17, 32, 28, 26, 23, 25, 48, 36, 44, 38, 42])\n",
      "deque([1, 15, 17, 32, 28, 26, 23, 25, 48, 36, 44, 38, 42, 39, 41, 80])\n",
      "deque([15, 17, 32, 28, 26, 23, 25, 48, 36, 44, 38, 42, 39, 41, 80, 0])\n",
      "deque([17, 32, 28, 26, 23, 25, 48, 36, 44, 38, 42, 39, 41, 80, 0, 30])\n",
      "4\n"
     ]
    }
   ],
   "source": [
    "from collections import deque\n",
    "\n",
    "MAX = 1000001\n",
    "n, k = list(map(int, input().split()))\n",
    "array = [0] * MAX\n",
    "\n",
    "def dfs():\n",
    "    q = deque([n])\n",
    "    while q:\n",
    "        print(q)\n",
    "        now_pos = q.popleft()\n",
    "        if now_pos == k:\n",
    "            return array[now_pos]\n",
    "        for next_pos in (now_pos - 1, now_pos + 1, now_pos * 2):\n",
    "            if 0 <= next_pos < MAX and not array[next_pos]:\n",
    "                array[next_pos] = array[now_pos] + 1\n",
    "                q.append(next_pos)\n",
    "                \n",
    "print(dfs())\n",
    "        "
   ]
  },
  {
   "cell_type": "code",
   "execution_count": null,
   "metadata": {},
   "outputs": [],
   "source": []
  }
 ],
 "metadata": {
  "kernelspec": {
   "display_name": "Python 3",
   "language": "python",
   "name": "python3"
  },
  "language_info": {
   "codemirror_mode": {
    "name": "ipython",
    "version": 3
   },
   "file_extension": ".py",
   "mimetype": "text/x-python",
   "name": "python",
   "nbconvert_exporter": "python",
   "pygments_lexer": "ipython3",
   "version": "3.8.5"
  }
 },
 "nbformat": 4,
 "nbformat_minor": 4
}
