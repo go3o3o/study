{
 "cells": [
  {
   "cell_type": "code",
   "execution_count": null,
   "metadata": {},
   "outputs": [],
   "source": [
    "from collections import deque\n",
    "\n",
    "n, m = map(int, input().split())\n",
    "adj = [[] for _ in range(n + 1)]\n",
    "\n",
    "for _ in range(m):\n",
    "    x, y = map(int, input().split())\n",
    "    adj[y].append(x)\n",
    "    \n",
    "def bfs(v):\n",
    "    q = deque([v])\n",
    "    visited = [False] * (n + 1)\n",
    "    visited[v] = True\n",
    "    count = 1\n",
    "    while q:\n",
    "        v = q.popleft()\n",
    "        for e in adj[v]:\n",
    "            if not visited[e]:\n",
    "                q.append(e)\n",
    "                visited[e] = True\n",
    "                count += 1\n",
    "#     print(count)\n",
    "    return count\n",
    "\n",
    "result = []\n",
    "max_value = -1\n",
    "\n",
    "for i in range(1, n +1):\n",
    "    c = bfs(i)\n",
    "    if c > max_value:\n",
    "        result = [i]\n",
    "        max_value = c\n",
    "    elif c == max_value:\n",
    "        result.append(i)\n",
    "        max_value = c\n",
    "        \n",
    "for e in result:\n",
    "    print(e, end=\" \")\n",
    "    "
   ]
  }
 ],
 "metadata": {
  "kernelspec": {
   "display_name": "Python 3",
   "language": "python",
   "name": "python3"
  },
  "language_info": {
   "codemirror_mode": {
    "name": "ipython",
    "version": 3
   },
   "file_extension": ".py",
   "mimetype": "text/x-python",
   "name": "python",
   "nbconvert_exporter": "python",
   "pygments_lexer": "ipython3",
   "version": "3.8.5"
  }
 },
 "nbformat": 4,
 "nbformat_minor": 4
}
