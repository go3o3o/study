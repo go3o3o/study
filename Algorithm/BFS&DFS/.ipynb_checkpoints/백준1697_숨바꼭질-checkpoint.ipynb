{
 "cells": [
  {
   "cell_type": "code",
   "execution_count": null,
   "metadata": {},
   "outputs": [],
   "source": [
    "from collections import deque\n",
    "\n",
    "MAX = 1000001\n",
    "n, k = list(map(int, input().split()))\n",
    "array = [0] * MAX\n",
    "\n",
    "def dfs():\n",
    "    q = deque([n])\n",
    "    while q:\n",
    "        print(q)\n",
    "        now_pos = q.popleft()\n",
    "        if now_pos == k:\n",
    "            return array[now_pos]\n",
    "        for next_pos in (now_pos - 1, now_pos + 1, now_pos * 2):\n",
    "            if 0 <= next_pos < MAX and not array[next_pos]:\n",
    "                array[next_pos] = array[now_pos] + 1\n",
    "                q.append(next_pos)\n",
    "                \n",
    "print(dfs())\n",
    "        "
   ]
  }
 ],
 "metadata": {
  "kernelspec": {
   "display_name": "Python 3",
   "language": "python",
   "name": "python3"
  },
  "language_info": {
   "codemirror_mode": {
    "name": "ipython",
    "version": 3
   },
   "file_extension": ".py",
   "mimetype": "text/x-python",
   "name": "python",
   "nbconvert_exporter": "python",
   "pygments_lexer": "ipython3",
   "version": "3.8.5"
  }
 },
 "nbformat": 4,
 "nbformat_minor": 4
}
