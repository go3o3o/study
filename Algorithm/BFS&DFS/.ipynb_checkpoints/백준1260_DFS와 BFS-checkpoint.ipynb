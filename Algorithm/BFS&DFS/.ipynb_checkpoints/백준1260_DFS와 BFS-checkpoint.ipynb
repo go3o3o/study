{
 "cells": [
  {
   "cell_type": "code",
   "execution_count": null,
   "metadata": {},
   "outputs": [],
   "source": []
  },
  {
   "cell_type": "code",
   "execution_count": null,
   "metadata": {},
   "outputs": [],
   "source": [
    "from collections import deque\n",
    "\n",
    "def dfs(v):\n",
    "    visited[v] = True\n",
    "    for e in adj[v]:\n",
    "        if not visited[e]:\n",
    "            dfs(e)\n",
    "    \n",
    "def bfs(v):\n",
    "    q = deque([v])\n",
    "    while q:\n",
    "        v = q.popleft()\n",
    "        if not visited[v]:\n",
    "            visited[v] = True\n",
    "            for e in adj[v]:\n",
    "                if not visited[e]:\n",
    "                    q.append(e)\n",
    "\n",
    "\n",
    "n, m, v = map(int, input().split())\n",
    "adj = [[] for _ in range(n + 1)]\n",
    "for _ in range(m):\n",
    "    x, y = map(int, input().split())\n",
    "    adj[x].append(x)\n",
    "    adj[y].append(y) \n",
    "    \n",
    "print(adj)\n",
    "for e in adj:\n",
    "    e.sort()\n",
    "print(adj)\n",
    "\n",
    "visited = [False] * (n + 1)\n",
    "dfs(v)\n",
    "visited = [False] * (n + 1)\n",
    "bfs(v)"
   ]
  },
  {
   "cell_type": "code",
   "execution_count": null,
   "metadata": {},
   "outputs": [],
   "source": []
  }
 ],
 "metadata": {
  "kernelspec": {
   "display_name": "Python 3",
   "language": "python",
   "name": "python3"
  },
  "language_info": {
   "codemirror_mode": {
    "name": "ipython",
    "version": 3
   },
   "file_extension": ".py",
   "mimetype": "text/x-python",
   "name": "python",
   "nbconvert_exporter": "python",
   "pygments_lexer": "ipython3",
   "version": "3.8.5"
  }
 },
 "nbformat": 4,
 "nbformat_minor": 4
}
