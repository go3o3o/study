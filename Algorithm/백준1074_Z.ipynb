{
 "cells": [
  {
   "cell_type": "code",
   "execution_count": 5,
   "metadata": {},
   "outputs": [],
   "source": [
    "def solve(n, r, c):\n",
    "    global result\n",
    "    if n == 2:\n",
    "        if r == R and c == C:\n",
    "            print(result)\n",
    "            return\n",
    "        result += 1\n",
    "        if r == R and c + 1 == C:\n",
    "            print(result)\n",
    "            return\n",
    "        result += 1\n",
    "        if r + 1 == r and c == C:\n",
    "            print(result)\n",
    "            return\n",
    "        result += 1\n",
    "        if r + 1 == R and c + 1 == C:\n",
    "            print(result)\n",
    "            return\n",
    "        result += 1\n",
    "        return\n",
    "    solve(n / 2, r, c)\n",
    "    solve(n / 2, r, c + n / 2)\n",
    "    solve(n / 2, r + n / 2, c)\n",
    "    solve(n / 2, r + n / 2, c + n /2)"
   ]
  },
  {
   "cell_type": "code",
   "execution_count": 7,
   "metadata": {},
   "outputs": [
    {
     "name": "stdout",
     "output_type": "stream",
     "text": [
      "3 7 7\n",
      "63\n"
     ]
    }
   ],
   "source": [
    "result = 0\n",
    "N, R, C = list(map(int, input().split()))\n",
    "solve(2 ** N, 0, 0)"
   ]
  },
  {
   "cell_type": "code",
   "execution_count": null,
   "metadata": {},
   "outputs": [],
   "source": []
  }
 ],
 "metadata": {
  "kernelspec": {
   "display_name": "Python 3",
   "language": "python",
   "name": "python3"
  },
  "language_info": {
   "codemirror_mode": {
    "name": "ipython",
    "version": 3
   },
   "file_extension": ".py",
   "mimetype": "text/x-python",
   "name": "python",
   "nbconvert_exporter": "python",
   "pygments_lexer": "ipython3",
   "version": "3.8.5"
  }
 },
 "nbformat": 4,
 "nbformat_minor": 4
}
