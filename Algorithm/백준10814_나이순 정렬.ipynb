{
 "cells": [
  {
   "cell_type": "code",
   "execution_count": 3,
   "metadata": {},
   "outputs": [
    {
     "name": "stdout",
     "output_type": "stream",
     "text": [
      "3\n",
      "21 a\n",
      "20 b\n",
      "21 c\n",
      "[(20, 'b'), (21, 'a'), (21, 'c')]\n"
     ]
    }
   ],
   "source": [
    "n = int(input())\n",
    "\n",
    "array = list()\n",
    "\n",
    "for _ in range(n):\n",
    "    input_data = input().split() \n",
    "    array.append((int(input_data[0]), input_data[1]))\n",
    "\n",
    "array = sorted(array, key=lambda x: x[0])\n",
    "for i in array:\n",
    "    print(i[0], i[1])"
   ]
  },
  {
   "cell_type": "code",
   "execution_count": null,
   "metadata": {},
   "outputs": [],
   "source": []
  }
 ],
 "metadata": {
  "kernelspec": {
   "display_name": "Python 3",
   "language": "python",
   "name": "python3"
  },
  "language_info": {
   "codemirror_mode": {
    "name": "ipython",
    "version": 3
   },
   "file_extension": ".py",
   "mimetype": "text/x-python",
   "name": "python",
   "nbconvert_exporter": "python",
   "pygments_lexer": "ipython3",
   "version": "3.8.5"
  }
 },
 "nbformat": 4,
 "nbformat_minor": 4
}
