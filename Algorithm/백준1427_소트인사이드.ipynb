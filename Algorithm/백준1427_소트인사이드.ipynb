{
 "cells": [
  {
   "cell_type": "code",
   "execution_count": 5,
   "metadata": {},
   "outputs": [
    {
     "name": "stdout",
     "output_type": "stream",
     "text": [
      "324\n",
      "423\n"
     ]
    }
   ],
   "source": [
    "n = input()\n",
    "\n",
    "array = list()\n",
    "for i in n:\n",
    "    array.append(i)\n",
    "\n",
    "array.reverse()\n",
    "print(''.join(array))"
   ]
  },
  {
   "cell_type": "code",
   "execution_count": 15,
   "metadata": {},
   "outputs": [
    {
     "name": "stdout",
     "output_type": "stream",
     "text": [
      "12349877773\n",
      "98777743321"
     ]
    }
   ],
   "source": [
    "n = input()\n",
    "\n",
    "for i in range(9, -1, -1):\n",
    "    for j in n:\n",
    "        if int(j) == i:\n",
    "            print(i, end='')"
   ]
  },
  {
   "cell_type": "code",
   "execution_count": null,
   "metadata": {},
   "outputs": [],
   "source": []
  }
 ],
 "metadata": {
  "kernelspec": {
   "display_name": "Python 3",
   "language": "python",
   "name": "python3"
  },
  "language_info": {
   "codemirror_mode": {
    "name": "ipython",
    "version": 3
   },
   "file_extension": ".py",
   "mimetype": "text/x-python",
   "name": "python",
   "nbconvert_exporter": "python",
   "pygments_lexer": "ipython3",
   "version": "3.6.8"
  }
 },
 "nbformat": 4,
 "nbformat_minor": 2
}
