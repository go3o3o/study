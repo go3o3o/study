{
 "cells": [
  {
   "cell_type": "code",
   "execution_count": 7,
   "metadata": {},
   "outputs": [
    {
     "name": "stdout",
     "output_type": "stream",
     "text": [
      "6\n",
      "2\n",
      "1 6 9 3 6 7\n",
      "5\n"
     ]
    }
   ],
   "source": [
    "import sys\n",
    "n = int(input()) # 센서의 개수\n",
    "k = int(input()) # 집중국의 개수\n",
    "\n",
    "# 집중국의 개수가 n 이상일 경우\n",
    "if k >= n:\n",
    "    print(0) # 각 센서의 위치에 설치하면 되므로 정답은 0\n",
    "    sys.exit()\n",
    "\n",
    "sensor = list(map(int, input().split()))\n",
    "sensor.sort()\n",
    "\n",
    "# 각 센서 간의 거리를 계산하여 내림차순 정렬\n",
    "distances = []\n",
    "for i in range(1, n):\n",
    "    distances.append(sensor[i] - sensor[i - 1])\n",
    "distances.sort(reverse = True)\n",
    "\n",
    "# 가장 긴 거리부터 k-1 까지 하나씩 제거\n",
    "for i in range(k - 1):\n",
    "    distances[i] = 0\n",
    "print(sum(distances))"
   ]
  }
 ],
 "metadata": {
  "kernelspec": {
   "display_name": "Python 3",
   "language": "python",
   "name": "python3"
  },
  "language_info": {
   "codemirror_mode": {
    "name": "ipython",
    "version": 3
   },
   "file_extension": ".py",
   "mimetype": "text/x-python",
   "name": "python",
   "nbconvert_exporter": "python",
   "pygments_lexer": "ipython3",
   "version": "3.8.5"
  }
 },
 "nbformat": 4,
 "nbformat_minor": 4
}
