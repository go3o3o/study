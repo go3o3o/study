{
 "cells": [
  {
   "cell_type": "code",
   "execution_count": 5,
   "metadata": {},
   "outputs": [
    {
     "name": "stdout",
     "output_type": "stream",
     "text": [
      "3\n",
      "2 2\n",
      "3 1\n",
      "-1 1\n",
      "[(-1, 1), (2, 2), (3, 1)]\n"
     ]
    }
   ],
   "source": [
    "n = int(input())\n",
    "\n",
    "array = list()\n",
    "for _ in range(n):\n",
    "    x, y = list(map(int, input().split()))\n",
    "    array.append((x, y))\n",
    "\n",
    "array.sort()\n",
    "# array = sorted(array)\n",
    "print(array)"
   ]
  },
  {
   "cell_type": "markdown",
   "metadata": {},
   "source": [
    "#### "
   ]
  }
 ],
 "metadata": {
  "kernelspec": {
   "display_name": "Python 3",
   "language": "python",
   "name": "python3"
  },
  "language_info": {
   "codemirror_mode": {
    "name": "ipython",
    "version": 3
   },
   "file_extension": ".py",
   "mimetype": "text/x-python",
   "name": "python",
   "nbconvert_exporter": "python",
   "pygments_lexer": "ipython3",
   "version": "3.8.5"
  }
 },
 "nbformat": 4,
 "nbformat_minor": 4
}
