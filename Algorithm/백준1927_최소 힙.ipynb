{
 "cells": [
  {
   "cell_type": "code",
   "execution_count": 9,
   "metadata": {},
   "outputs": [
    {
     "data": {
      "text/plain": [
       "1"
      ]
     },
     "execution_count": 9,
     "metadata": {},
     "output_type": "execute_result"
    }
   ],
   "source": [
    "del min\n",
    "item = [5, 13, 66, 12, 78, 1, 78] \n",
    "min(item)  "
   ]
  },
  {
   "cell_type": "code",
   "execution_count": 20,
   "metadata": {},
   "outputs": [
    {
     "name": "stdout",
     "output_type": "stream",
     "text": [
      "9\n",
      "0\n",
      "12345678\n",
      "1\n",
      "2\n",
      "0\n",
      "0\n",
      "0\n",
      "0\n",
      "32\n",
      "0\n",
      "1\n",
      "2\n",
      "12345678\n"
     ]
    }
   ],
   "source": [
    "n = int(input())\n",
    "\n",
    "array = []\n",
    "result = []\n",
    "for _ in range(n):\n",
    "    x = int(input())\n",
    "    if x == 0 and len(array) > 0:\n",
    "        result.append(min(array))\n",
    "        idx = array.index(min(array))\n",
    "        array.pop(idx)\n",
    "    else:\n",
    "        array.append(x)\n",
    "\n",
    "for i in result:\n",
    "    print(i)\n",
    "        \n"
   ]
  },
  {
   "cell_type": "markdown",
   "metadata": {},
   "source": [
    "## solution"
   ]
  },
  {
   "cell_type": "code",
   "execution_count": 21,
   "metadata": {},
   "outputs": [
    {
     "name": "stdout",
     "output_type": "stream",
     "text": [
      "9\n",
      "0\n",
      "12345678\n",
      "1\n",
      "2\n",
      "0\n",
      "0\n",
      "0\n",
      "0\n",
      "32\n",
      "0\n",
      "1\n",
      "2\n",
      "12345678\n",
      "0\n"
     ]
    }
   ],
   "source": [
    "import heapq\n",
    "\n",
    "n = int(input())\n",
    "heap = []\n",
    "result = []\n",
    "\n",
    "for _ in range(n):\n",
    "    data = int(input())\n",
    "    if data == 0:\n",
    "        if heap:\n",
    "            result.append(heapq.heappop(heap))\n",
    "        else:\n",
    "            result.append(0)\n",
    "    else:\n",
    "        heapq.heappush(heap, data)\n",
    "for i in result:\n",
    "    print(i)"
   ]
  },
  {
   "cell_type": "code",
   "execution_count": null,
   "metadata": {},
   "outputs": [],
   "source": []
  }
 ],
 "metadata": {
  "kernelspec": {
   "display_name": "Python 3",
   "language": "python",
   "name": "python3"
  },
  "language_info": {
   "codemirror_mode": {
    "name": "ipython",
    "version": 3
   },
   "file_extension": ".py",
   "mimetype": "text/x-python",
   "name": "python",
   "nbconvert_exporter": "python",
   "pygments_lexer": "ipython3",
   "version": "3.6.8"
  }
 },
 "nbformat": 4,
 "nbformat_minor": 2
}
