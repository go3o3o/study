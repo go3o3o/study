{
 "cells": [
  {
   "cell_type": "code",
   "execution_count": 8,
   "metadata": {},
   "outputs": [
    {
     "name": "stdout",
     "output_type": "stream",
     "text": [
      "3 5 2 4 1 5 6 7\n",
      "Mixed\n"
     ]
    }
   ],
   "source": [
    "a = list(map(int, input().split(' ')))\n",
    "         \n",
    "asc = True\n",
    "desc = True\n",
    "for i in range(1, 8):\n",
    "    if a[i] > a[i - 1]:\n",
    "        desc = False\n",
    "    elif a[i] < a[i - 1]:\n",
    "        asc = False\n",
    "if asc:\n",
    "    print('Ascending')\n",
    "elif desc:\n",
    "    print('Descending')\n",
    "else:\n",
    "    print('Mixed')\n",
    "            "
   ]
  },
  {
   "cell_type": "markdown",
   "metadata": {},
   "source": []
  },
  {
   "cell_type": "code",
   "execution_count": null,
   "metadata": {},
   "outputs": [],
   "source": []
  }
 ],
 "metadata": {
  "kernelspec": {
   "display_name": "Python 3",
   "language": "python",
   "name": "python3"
  },
  "language_info": {
   "codemirror_mode": {
    "name": "ipython",
    "version": 3
   },
   "file_extension": ".py",
   "mimetype": "text/x-python",
   "name": "python",
   "nbconvert_exporter": "python",
   "pygments_lexer": "ipython3",
   "version": "3.6.8"
  }
 },
 "nbformat": 4,
 "nbformat_minor": 2
}
