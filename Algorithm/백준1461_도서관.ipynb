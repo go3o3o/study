{
 "cells": [
  {
   "cell_type": "markdown",
   "metadata": {},
   "source": [
    "- M개씩의 묶음 중에서 가장 거리가 먼 책만큼 이동해야 함\n",
    "- -39 -37 (39) / -29 -28 (29) / -6 (6) / 0 / 2 11 (11)\n",
    "- -> 왕복 거리: (39 + 29 + 6 + 11) * 2 = 170\n",
    "- -> 가장 먼 책의 편도 거리 제외: 170 - 39 = 131 (정답)  "
   ]
  },
  {
   "cell_type": "code",
   "execution_count": 4,
   "metadata": {},
   "outputs": [
    {
     "name": "stdout",
     "output_type": "stream",
     "text": [
      "7 2\n",
      "-37 2 -6 -39 -29 11 -28\n",
      "131\n"
     ]
    }
   ],
   "source": [
    "import sys\n",
    "import heapq\n",
    "n, m = map(int, input().split())\n",
    "\n",
    "if n <= m:\n",
    "    print(1)\n",
    "    sys.exit(0)\n",
    "\n",
    "books = list(map(int, input().split()))\n",
    "positive = []\n",
    "negative = []\n",
    "\n",
    "# 가장 거리가 먼 책까지의 거리\n",
    "largest = max(max(books), -min(books))\n",
    "\n",
    "# 최대 합(Max heap)을 위해 원소를 음수로 구성\n",
    "for i in books:\n",
    "    if i > 0:\n",
    "        heapq.heappush(positive, -i)\n",
    "    else:\n",
    "        heapq.heappush(negative, i)\n",
    "\n",
    "result = 0\n",
    "\n",
    "# 한번에 m개씩 옮길 수 있으므로 m개씩 빼기\n",
    "while positive:\n",
    "    result += heapq.heappop(positive)\n",
    "    for _ in range(m - 1):\n",
    "        if positive:\n",
    "            heapq.heappop(positive)\n",
    "\n",
    "while negative:\n",
    "    result += heapq.heappop(negative)\n",
    "    for _ in range(m - 1):\n",
    "        if negative:\n",
    "            heapq.heappop(negative)\n",
    "print(-result * 2 - largest)"
   ]
  },
  {
   "cell_type": "code",
   "execution_count": null,
   "metadata": {},
   "outputs": [],
   "source": []
  }
 ],
 "metadata": {
  "kernelspec": {
   "display_name": "Python 3",
   "language": "python",
   "name": "python3"
  },
  "language_info": {
   "codemirror_mode": {
    "name": "ipython",
    "version": 3
   },
   "file_extension": ".py",
   "mimetype": "text/x-python",
   "name": "python",
   "nbconvert_exporter": "python",
   "pygments_lexer": "ipython3",
   "version": "3.8.5"
  }
 },
 "nbformat": 4,
 "nbformat_minor": 4
}
