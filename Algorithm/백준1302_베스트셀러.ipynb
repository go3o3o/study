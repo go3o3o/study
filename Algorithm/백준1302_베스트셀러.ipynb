{
 "cells": [
  {
   "cell_type": "code",
   "execution_count": 16,
   "metadata": {},
   "outputs": [
    {
     "name": "stdout",
     "output_type": "stream",
     "text": [
      "5\n",
      "t\n",
      "t\n",
      "t\n",
      "w\n",
      "w\n",
      "{'t': 3, 'w': 2}\n",
      "t\n"
     ]
    }
   ],
   "source": [
    "n = int(input())\n",
    "\n",
    "books = dict()\n",
    "count = 1\n",
    "for _ in range(n):\n",
    "    book = input()\n",
    "    if book in books.keys():\n",
    "        count += 1\n",
    "    else:\n",
    "        count = 1\n",
    "    books[book] = count\n",
    "sorted(books)\n",
    "\n",
    "print(list(books.keys())[0])"
   ]
  },
  {
   "cell_type": "markdown",
   "metadata": {},
   "source": [
    "## solution"
   ]
  },
  {
   "cell_type": "code",
   "execution_count": 21,
   "metadata": {},
   "outputs": [
    {
     "name": "stdout",
     "output_type": "stream",
     "text": [
      "4\n",
      "t\n",
      "s\n",
      "s\n",
      "s\n",
      "s\n"
     ]
    }
   ],
   "source": [
    "n = int(input())\n",
    "\n",
    "books = {}\n",
    "\n",
    "for _ in range(n):\n",
    "    book = input()\n",
    "    if book not in books:\n",
    "        books[book] = 1\n",
    "    else:\n",
    "        books[book] += 1\n",
    "target = max(books.values())\n",
    "array = []\n",
    "for book, number in books.items():\n",
    "    if number == target:\n",
    "        array.append(book)\n",
    "print(sorted(array)[0])"
   ]
  },
  {
   "cell_type": "code",
   "execution_count": null,
   "metadata": {},
   "outputs": [],
   "source": []
  }
 ],
 "metadata": {
  "kernelspec": {
   "display_name": "Python 3",
   "language": "python",
   "name": "python3"
  },
  "language_info": {
   "codemirror_mode": {
    "name": "ipython",
    "version": 3
   },
   "file_extension": ".py",
   "mimetype": "text/x-python",
   "name": "python",
   "nbconvert_exporter": "python",
   "pygments_lexer": "ipython3",
   "version": "3.6.8"
  }
 },
 "nbformat": 4,
 "nbformat_minor": 2
}
