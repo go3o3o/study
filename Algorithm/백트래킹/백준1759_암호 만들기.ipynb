{
 "cells": [
  {
   "cell_type": "markdown",
   "metadata": {},
   "source": [
    "### 조합 라이브러리: combinations"
   ]
  },
  {
   "cell_type": "code",
   "execution_count": 9,
   "metadata": {},
   "outputs": [
    {
     "name": "stdout",
     "output_type": "stream",
     "text": [
      "4 6\n",
      "a t c i s w\n",
      "acis\n",
      "acit\n",
      "aciw\n",
      "acst\n",
      "acsw\n",
      "actw\n",
      "aist\n",
      "aisw\n",
      "aitw\n",
      "astw\n",
      "cist\n",
      "cisw\n",
      "citw\n",
      "istw\n"
     ]
    }
   ],
   "source": [
    "from itertools import combinations\n",
    "\n",
    "vowels = ['a', 'e', 'i', 'o', 'u']\n",
    "l, c = map(int, input().split())\n",
    "\n",
    "array = input().split(' ')\n",
    "array.sort()\n",
    "\n",
    "# 길이가 l인 모든 암호 조합을 확인\n",
    "for password in combinations(array, l):\n",
    "#     print(password)\n",
    "    count = 0\n",
    "    for i in password:\n",
    "        if i in vowels:\n",
    "            count += 1\n",
    "    \n",
    "    # 최소 한 개의 모음과 최소 두 개의 자음이 있는 경우 출력\n",
    "    if count >= 1 and count <= l - 2:\n",
    "        print(''.join(password))"
   ]
  },
  {
   "cell_type": "code",
   "execution_count": null,
   "metadata": {},
   "outputs": [],
   "source": []
  }
 ],
 "metadata": {
  "kernelspec": {
   "display_name": "Python 3",
   "language": "python",
   "name": "python3"
  },
  "language_info": {
   "codemirror_mode": {
    "name": "ipython",
    "version": 3
   },
   "file_extension": ".py",
   "mimetype": "text/x-python",
   "name": "python",
   "nbconvert_exporter": "python",
   "pygments_lexer": "ipython3",
   "version": "3.8.5"
  }
 },
 "nbformat": 4,
 "nbformat_minor": 4
}
