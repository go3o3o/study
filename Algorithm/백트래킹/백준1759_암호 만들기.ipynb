{
 "cells": [
  {
   "cell_type": "markdown",
   "metadata": {},
   "source": [
    "### 조합 라이브러리: combinations"
   ]
  },
  {
   "cell_type": "code",
   "execution_count": 9,
   "metadata": {},
   "outputs": [
    {
     "name": "stdout",
     "output_type": "stream",
     "text": [
      "4 6\n",
      "a t c i s w\n",
      "acis\n",
      "acit\n",
      "aciw\n",
      "acst\n",
      "acsw\n",
      "actw\n",
      "aist\n",
      "aisw\n",
      "aitw\n",
      "astw\n",
      "cist\n",
      "cisw\n",
      "citw\n",
      "istw\n"
     ]
    }
   ],
   "source": [
    "from itertools import combinations\n",
    "\n",
    "vowels = ['a', 'e', 'i', 'o', 'u']\n",
    "l, c = map(int, input().split())\n",
    "\n",
    "array = input().split(' ')\n",
    "array.sort()\n",
    "\n",
    "# 길이가 l인 모든 암호 조합을 확인\n",
    "for password in combinations(array, l):\n",
    "#     print(password)\n",
    "    count = 0\n",
    "    for i in password:\n",
    "        if i in vowels:\n",
    "            count += 1\n",
    "    \n",
    "    # 최소 한 개의 모음과 최소 두 개의 자음이 있는 경우 출력\n",
    "    if count >= 1 and count <= l - 2:\n",
    "        print(''.join(password))"
   ]
  },
  {
   "cell_type": "markdown",
   "metadata": {},
   "source": [
    "### 조합 함수 구현"
   ]
  },
  {
   "cell_type": "code",
   "execution_count": 1,
   "metadata": {},
   "outputs": [],
   "source": [
    "import copy\n",
    "\n",
    "result = []\n",
    "string = []\n",
    "visited = []\n",
    "\n",
    "# 조합 함수 구현 \n",
    "def combination(array, length, index):\n",
    "    # 길이가 length 인 모든 조합 찾기 \n",
    "    if len(string) == length:\n",
    "#         print(string)\n",
    "        result.append(copy.deepcopy(string))\n",
    "        return\n",
    "    # 각 원소를 한 번씩만 뽑도록 수어 \n",
    "    for i in range(index, len(array)):\n",
    "        if i in visited:\n",
    "            continue\n",
    "        string.append(array[i])\n",
    "        visited.append(i)\n",
    "        combination(array, length, i + 1)\n",
    "        string.pop()\n",
    "        visited.pop()"
   ]
  },
  {
   "cell_type": "code",
   "execution_count": 4,
   "metadata": {},
   "outputs": [
    {
     "name": "stdout",
     "output_type": "stream",
     "text": [
      "4 6\n",
      "a t c i s w\n",
      "acis\n",
      "acit\n",
      "aciw\n",
      "acst\n",
      "acsw\n",
      "actw\n",
      "aist\n",
      "aisw\n",
      "aitw\n",
      "astw\n",
      "cist\n",
      "cisw\n",
      "citw\n",
      "istw\n",
      "acis\n",
      "acit\n",
      "aciw\n",
      "acst\n",
      "acsw\n",
      "actw\n",
      "aist\n",
      "aisw\n",
      "aitw\n",
      "astw\n",
      "cist\n",
      "cisw\n",
      "citw\n",
      "istw\n"
     ]
    }
   ],
   "source": [
    "vowels = ['a', 'e', 'i', 'o', 'u']\n",
    "l, c = map(int, input().split()) \n",
    "\n",
    "array = input().split()\n",
    "array.sort()\n",
    "\n",
    "combination(array, l, 0)\n",
    "\n",
    "# 길이가 l인 모든 암호 조합을 확인\n",
    "for password in result:\n",
    "#     print(password)\n",
    "    count = 0\n",
    "    for i in password:\n",
    "        if i in vowels:\n",
    "            count += 1\n",
    "    \n",
    "    # 최소 한 개의 모음과 최소 두 개의 자음이 있는 경우 출력\n",
    "    if count >= 1 and count <= l - 2:\n",
    "        print(''.join(password))"
   ]
  },
  {
   "cell_type": "code",
   "execution_count": null,
   "metadata": {},
   "outputs": [],
   "source": []
  }
 ],
 "metadata": {
  "kernelspec": {
   "display_name": "Python 3",
   "language": "python",
   "name": "python3"
  },
  "language_info": {
   "codemirror_mode": {
    "name": "ipython",
    "version": 3
   },
   "file_extension": ".py",
   "mimetype": "text/x-python",
   "name": "python",
   "nbconvert_exporter": "python",
   "pygments_lexer": "ipython3",
   "version": "3.8.5"
  }
 },
 "nbformat": 4,
 "nbformat_minor": 4
}
