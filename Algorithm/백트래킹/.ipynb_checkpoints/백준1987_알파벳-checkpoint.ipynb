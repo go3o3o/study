{
 "cells": [
  {
   "cell_type": "code",
   "execution_count": 10,
   "metadata": {},
   "outputs": [],
   "source": [
    "# 이동 좌표 [상, 하, 좌, 우]\n",
    "dx = [-1, 1, 0, 0]\n",
    "dy = [0, 0, -1, -1]\n",
    "\n",
    "def bfs(x, y):\n",
    "    global result\n",
    "    # 동일한 경우는 한 번만 계산하기 위해 집합 자료형 사용 \n",
    "    q = set()\n",
    "    q.add((x, y, array[x][y]))\n",
    "    \n",
    "    while q: \n",
    "        x, y, step = q.pop()\n",
    "        # 가장 긴 이동거리를 저장\n",
    "        result = max(result, len(step))\n",
    "        \n",
    "        # 네 방향으로 이동하는 경우를 각각 확인\n",
    "        for i in range(4):\n",
    "            nx = x + dx[i]\n",
    "            ny = y + dy[i]\n",
    "            \n",
    "            # 이동할 수 있는 위치면서, 새로운 알파벳인 경우\n",
    "            if (0 <= nx and nx < r and 0 <= ny and ny < c and\n",
    "                array[nx][ny] not in step):\n",
    "                q.add((nx, ny, step + array[nx][ny]))"
   ]
  },
  {
   "cell_type": "code",
   "execution_count": 11,
   "metadata": {
    "scrolled": true
   },
   "outputs": [
    {
     "name": "stdout",
     "output_type": "stream",
     "text": [
      "2 4\n",
      "CAAB\n",
      "ADCB\n",
      "2\n"
     ]
    }
   ],
   "source": [
    "r, c = map(int, input().split())\n",
    "array = []\n",
    "for _ in range(r):\n",
    "    alpa = input()\n",
    "    array.append(alpa)\n",
    "    \n",
    "result = 0\n",
    "bfs(0, 0)\n",
    "print(result)"
   ]
  },
  {
   "cell_type": "code",
   "execution_count": null,
   "metadata": {},
   "outputs": [],
   "source": []
  }
 ],
 "metadata": {
  "kernelspec": {
   "display_name": "Python 3",
   "language": "python",
   "name": "python3"
  },
  "language_info": {
   "codemirror_mode": {
    "name": "ipython",
    "version": 3
   },
   "file_extension": ".py",
   "mimetype": "text/x-python",
   "name": "python",
   "nbconvert_exporter": "python",
   "pygments_lexer": "ipython3",
   "version": "3.8.5"
  }
 },
 "nbformat": 4,
 "nbformat_minor": 4
}
