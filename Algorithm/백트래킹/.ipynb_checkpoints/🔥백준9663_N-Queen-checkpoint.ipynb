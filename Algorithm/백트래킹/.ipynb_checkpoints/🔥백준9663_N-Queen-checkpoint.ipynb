{
 "cells": [
  {
   "cell_type": "markdown",
   "metadata": {},
   "source": [
    "### 백트래킹 문제\n",
    "- DFS 를 이용해서 구현 가능"
   ]
  },
  {
   "cell_type": "code",
   "execution_count": 5,
   "metadata": {},
   "outputs": [],
   "source": [
    "# x 번째 행에 놓은 queen 에 대해서 검증\n",
    "def check(x):\n",
    "    # 이전 행에서 놓았떤 모든 queen 들을 확인\n",
    "    for i in range(x):\n",
    "        # 위쪽 혹은 대각선을 확인\n",
    "        if row[x] == row[i]:\n",
    "            return False\n",
    "        if abs(row[x] - row[i]) == x - i:\n",
    "            return False\n",
    "    return True\n",
    "\n",
    "# x 번째 행에 대하여 처리\n",
    "def dfs(x):\n",
    "    global result\n",
    "    if x == n:\n",
    "        result += 1\n",
    "    else:\n",
    "        # x 번째 행의 각 열에 queen 을 둔다고 가정\n",
    "        for i in range(n):\n",
    "            row[x] = i\n",
    "            # 해당 위치에 queen 을 둬도 괜찮은 경우\n",
    "            if check(x):\n",
    "                # 다음 행으로 넘어가기\n",
    "                dfs(x + 1)"
   ]
  },
  {
   "cell_type": "code",
   "execution_count": 7,
   "metadata": {},
   "outputs": [
    {
     "name": "stdout",
     "output_type": "stream",
     "text": [
      "8\n",
      "92\n"
     ]
    }
   ],
   "source": [
    "n = int(input())\n",
    "\n",
    "row = [0] * n\n",
    "result = 0\n",
    "dfs(0)\n",
    "print(result)\n",
    "        "
   ]
  },
  {
   "cell_type": "code",
   "execution_count": null,
   "metadata": {},
   "outputs": [],
   "source": []
  }
 ],
 "metadata": {
  "kernelspec": {
   "display_name": "Python 3",
   "language": "python",
   "name": "python3"
  },
  "language_info": {
   "codemirror_mode": {
    "name": "ipython",
    "version": 3
   },
   "file_extension": ".py",
   "mimetype": "text/x-python",
   "name": "python",
   "nbconvert_exporter": "python",
   "pygments_lexer": "ipython3",
   "version": "3.8.5"
  }
 },
 "nbformat": 4,
 "nbformat_minor": 4
}
