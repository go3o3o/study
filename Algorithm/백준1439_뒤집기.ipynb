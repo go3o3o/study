{
 "cells": [
  {
   "cell_type": "code",
   "execution_count": 3,
   "metadata": {},
   "outputs": [
    {
     "name": "stdout",
     "output_type": "stream",
     "text": [
      "110110\n",
      "2\n"
     ]
    }
   ],
   "source": [
    "s = input()\n",
    "\n",
    "count0 = 0 # 전부 0으로 바꾸는 경우\n",
    "count1 = 0 # 전부 1로 바꾸는 경우\n",
    "\n",
    "if s[0] == '1':\n",
    "    count0 += 1\n",
    "else:\n",
    "    count1 += 1\n",
    "    \n",
    "for i in range(len(s) - 1):\n",
    "    if s[i] != s[i + 1]:\n",
    "        if s[i + 1] == '1':\n",
    "            count0 += 1\n",
    "        else:\n",
    "            count1 += 1\n",
    "            \n",
    "print(min(count0, count1))            "
   ]
  },
  {
   "cell_type": "code",
   "execution_count": null,
   "metadata": {},
   "outputs": [],
   "source": []
  }
 ],
 "metadata": {
  "kernelspec": {
   "display_name": "Python 3",
   "language": "python",
   "name": "python3"
  },
  "language_info": {
   "codemirror_mode": {
    "name": "ipython",
    "version": 3
   },
   "file_extension": ".py",
   "mimetype": "text/x-python",
   "name": "python",
   "nbconvert_exporter": "python",
   "pygments_lexer": "ipython3",
   "version": "3.8.5"
  }
 },
 "nbformat": 4,
 "nbformat_minor": 4
}
